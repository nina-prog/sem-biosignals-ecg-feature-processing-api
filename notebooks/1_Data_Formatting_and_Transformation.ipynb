{
 "cells": [
  {
   "cell_type": "markdown",
   "source": [
    "# Imports"
   ],
   "metadata": {
    "collapsed": false
   }
  },
  {
   "cell_type": "code",
   "execution_count": 3,
   "outputs": [],
   "source": [
    "import json\n",
    "import src.configs as cfg\n",
    "import src.preprocessing as pp\n",
    "import src.feature_extraction as fe\n",
    "import pandas as pd\n",
    "from tqdm import tqdm\n",
    "import neurokit2 as nk\n",
    "import h5py"
   ],
   "metadata": {
    "collapsed": false,
    "ExecuteTime": {
     "end_time": "2023-05-31T11:23:31.005056300Z",
     "start_time": "2023-05-31T11:23:29.972494800Z"
    }
   }
  },
  {
   "cell_type": "markdown",
   "source": [
    "# HDF5 file -> Pandas DataFrame"
   ],
   "metadata": {
    "collapsed": false
   }
  },
  {
   "cell_type": "code",
   "execution_count": 4,
   "outputs": [
    {
     "data": {
      "text/plain": "['00:07:80:4C:28:5F']"
     },
     "execution_count": 4,
     "metadata": {},
     "output_type": "execute_result"
    }
   ],
   "source": [
    "# Open the HDF5 file\n",
    "file = h5py.File('../data/opensignals_0007804c285f_2023-05-23_22-52-57.h5', 'r')\n",
    "# Inspection of .h5 file internal structure/groups (in this case the mac address list of the used devices for acquiring data)\n",
    "list(file.keys())"
   ],
   "metadata": {
    "collapsed": false,
    "ExecuteTime": {
     "end_time": "2023-05-31T11:23:31.390518900Z",
     "start_time": "2023-05-31T11:23:31.346818500Z"
    }
   }
  },
  {
   "cell_type": "code",
   "execution_count": 5,
   "outputs": [
    {
     "name": "stdout",
     "output_type": "stream",
     "text": [
      "Second hierarchy level: ['digital', 'events', 'plugin', 'raw', 'support']\n",
      "Metadata of h5_group: \n",
      "['channels', 'comments', 'date', 'device', 'device connection', 'device name', 'digital IO', 'duration', 'firmware version', 'keywords', 'macaddress', 'mode', 'nsamples', 'resolution', 'sampling rate', 'sync interval', 'time']\n"
     ]
    }
   ],
   "source": [
    "# Access to the second hierarchy level through group key \"00:07:80:3B:46:61\"\n",
    "h5_group = file.get('00:07:80:4C:28:5F')\n",
    "print (\"Second hierarchy level: \" + str(list(h5_group)))\n",
    "# Identification of h5_group metadata attributes\n",
    "print(\"Metadata of h5_group: \\n\" + str(list(h5_group.attrs.keys())))"
   ],
   "metadata": {
    "collapsed": false,
    "ExecuteTime": {
     "end_time": "2023-05-31T11:23:31.915665900Z",
     "start_time": "2023-05-31T11:23:31.890961700Z"
    }
   }
  },
  {
   "cell_type": "code",
   "execution_count": 6,
   "outputs": [
    {
     "name": "stdout",
     "output_type": "stream",
     "text": [
      "Third hierarchy level: ['channel_1', 'channel_2', 'nSeq']\n"
     ]
    }
   ],
   "source": [
    "# Access to the third level of data through group key \"00:07:80:3B:46:61\" and sub-group key \"raw\"\n",
    "h5_sub_group = h5_group.get(\"raw\")\n",
    "print(\"Third hierarchy level: \" + str(list(h5_sub_group)))"
   ],
   "metadata": {
    "collapsed": false,
    "ExecuteTime": {
     "end_time": "2023-05-31T11:23:32.205020500Z",
     "start_time": "2023-05-31T11:23:32.200254800Z"
    }
   }
  },
  {
   "cell_type": "markdown",
   "source": [
    "### Add timestamp column"
   ],
   "metadata": {
    "collapsed": false
   }
  },
  {
   "cell_type": "code",
   "execution_count": 7,
   "outputs": [
    {
     "name": "stdout",
     "output_type": "stream",
     "text": [
      "CPU times: total: 4.61 s\n",
      "Wall time: 16.2 s\n"
     ]
    }
   ],
   "source": [
    "%%time\n",
    "# Extract the timestamp-related details\n",
    "sampling_rate = h5_group.attrs['sampling rate']\n",
    "date = h5_group.attrs['date']\n",
    "time = h5_group.attrs['time']\n",
    "\n",
    "# Transposition of \"channel_1\" and \"channel_2\" dataset to Python lists. These sub-groups contain the raw data of the ECG and BVP channels respectively.\n",
    "ecg = [float(x) for x in h5_sub_group.get(\"channel_1\")]\n",
    "bvp = [float(x) for x in h5_sub_group.get(\"channel_2\")]\n",
    "\n",
    "# Create the timestamp column\n",
    "num_samples = len(ecg)\n",
    "timestamps = pd.date_range(start=date + ' ' + time, periods=num_samples, freq=f'{1/sampling_rate}S')\n",
    "\n",
    "# Map the timestamp column to the data and add other columns\n",
    "data_with_timestamp = pd.DataFrame({'timestamp_idx': timestamps,\n",
    "                                    'ecg': ecg,\n",
    "                                    #'bvp': bvp\n",
    "                                    })\n",
    "# Cut of the first 10 minutes of the data\n",
    "data_with_timestamp = data_with_timestamp[data_with_timestamp['timestamp_idx'] >= data_with_timestamp['timestamp_idx'][0] + pd.Timedelta(minutes=10)]\n",
    "data_with_timestamp.reset_index(inplace=True, drop=True)\n",
    "# convert to string so that it is json serializable\n",
    "data_with_timestamp['timestamp_idx'] = data_with_timestamp['timestamp_idx'].astype(str)\n",
    "\n",
    "# Close the file\n",
    "file.close()"
   ],
   "metadata": {
    "collapsed": false,
    "ExecuteTime": {
     "end_time": "2023-05-31T11:23:49.466478600Z",
     "start_time": "2023-05-31T11:23:33.259159400Z"
    }
   }
  },
  {
   "cell_type": "code",
   "execution_count": 8,
   "outputs": [
    {
     "data": {
      "text/plain": "                   timestamp_idx     ecg\n0        2023-05-23 23:03:01.335  4047.0\n1        2023-05-23 23:03:01.336  3952.0\n2        2023-05-23 23:03:01.337  4342.0\n3        2023-05-23 23:03:01.338  3586.0\n4        2023-05-23 23:03:01.339  3059.0\n...                          ...     ...\n2206345  2023-05-23 23:39:47.680   526.0\n2206346  2023-05-23 23:39:47.681   458.0\n2206347  2023-05-23 23:39:47.682  2258.0\n2206348  2023-05-23 23:39:47.683  5684.0\n2206349  2023-05-23 23:39:47.684  6690.0\n\n[2206350 rows x 2 columns]",
      "text/html": "<div>\n<style scoped>\n    .dataframe tbody tr th:only-of-type {\n        vertical-align: middle;\n    }\n\n    .dataframe tbody tr th {\n        vertical-align: top;\n    }\n\n    .dataframe thead th {\n        text-align: right;\n    }\n</style>\n<table border=\"1\" class=\"dataframe\">\n  <thead>\n    <tr style=\"text-align: right;\">\n      <th></th>\n      <th>timestamp_idx</th>\n      <th>ecg</th>\n    </tr>\n  </thead>\n  <tbody>\n    <tr>\n      <th>0</th>\n      <td>2023-05-23 23:03:01.335</td>\n      <td>4047.0</td>\n    </tr>\n    <tr>\n      <th>1</th>\n      <td>2023-05-23 23:03:01.336</td>\n      <td>3952.0</td>\n    </tr>\n    <tr>\n      <th>2</th>\n      <td>2023-05-23 23:03:01.337</td>\n      <td>4342.0</td>\n    </tr>\n    <tr>\n      <th>3</th>\n      <td>2023-05-23 23:03:01.338</td>\n      <td>3586.0</td>\n    </tr>\n    <tr>\n      <th>4</th>\n      <td>2023-05-23 23:03:01.339</td>\n      <td>3059.0</td>\n    </tr>\n    <tr>\n      <th>...</th>\n      <td>...</td>\n      <td>...</td>\n    </tr>\n    <tr>\n      <th>2206345</th>\n      <td>2023-05-23 23:39:47.680</td>\n      <td>526.0</td>\n    </tr>\n    <tr>\n      <th>2206346</th>\n      <td>2023-05-23 23:39:47.681</td>\n      <td>458.0</td>\n    </tr>\n    <tr>\n      <th>2206347</th>\n      <td>2023-05-23 23:39:47.682</td>\n      <td>2258.0</td>\n    </tr>\n    <tr>\n      <th>2206348</th>\n      <td>2023-05-23 23:39:47.683</td>\n      <td>5684.0</td>\n    </tr>\n    <tr>\n      <th>2206349</th>\n      <td>2023-05-23 23:39:47.684</td>\n      <td>6690.0</td>\n    </tr>\n  </tbody>\n</table>\n<p>2206350 rows × 2 columns</p>\n</div>"
     },
     "execution_count": 8,
     "metadata": {},
     "output_type": "execute_result"
    }
   ],
   "source": [
    "data_with_timestamp"
   ],
   "metadata": {
    "collapsed": false,
    "ExecuteTime": {
     "end_time": "2023-05-31T11:23:49.482685800Z",
     "start_time": "2023-05-31T11:23:49.466478600Z"
    }
   }
  },
  {
   "cell_type": "markdown",
   "source": [
    "### Add other columns"
   ],
   "metadata": {
    "collapsed": false
   }
  },
  {
   "cell_type": "code",
   "execution_count": 9,
   "outputs": [],
   "source": [
    "df_selfacq = data_with_timestamp.copy()\n",
    "num_samples = len(df_selfacq)\n",
    "\n",
    "df_selfacq['label'] = ['undefined'] * num_samples\n",
    "df_selfacq['sample_id'] = 'f70c1033-36ae-4b8b-8b89-099a96dccca5'\n",
    "df_selfacq['subject_id'] = 'participant_1'\n",
    "\n",
    "df_selfacq['supervisor'] = 'Lieschen Mueller'\n",
    "df_selfacq['record_date'] = '2034-01-16'\n",
    "\n",
    "df_selfacq['configs.device_name'] = 'bioplux'\n",
    "df_selfacq['configs.frequency'] = 1000\n",
    "df_selfacq['configs.signal'] = 'chest'\n",
    "df_selfacq['configs.window_slicing_method'] = 'time_related'\n",
    "df_selfacq['configs.window_size'] = 5.0"
   ],
   "metadata": {
    "collapsed": false,
    "ExecuteTime": {
     "end_time": "2023-05-31T11:23:49.684426200Z",
     "start_time": "2023-05-31T11:23:49.484307100Z"
    }
   }
  },
  {
   "cell_type": "code",
   "execution_count": 10,
   "outputs": [
    {
     "name": "stdout",
     "output_type": "stream",
     "text": [
      "<class 'pandas.core.frame.DataFrame'>\n",
      "RangeIndex: 2206350 entries, 0 to 2206349\n",
      "Data columns (total 12 columns):\n",
      " #   Column                         Dtype  \n",
      "---  ------                         -----  \n",
      " 0   timestamp_idx                  object \n",
      " 1   ecg                            float64\n",
      " 2   label                          object \n",
      " 3   sample_id                      object \n",
      " 4   subject_id                     object \n",
      " 5   supervisor                     object \n",
      " 6   record_date                    object \n",
      " 7   configs.device_name            object \n",
      " 8   configs.frequency              int64  \n",
      " 9   configs.signal                 object \n",
      " 10  configs.window_slicing_method  object \n",
      " 11  configs.window_size            float64\n",
      "dtypes: float64(2), int64(1), object(9)\n",
      "memory usage: 202.0+ MB\n"
     ]
    }
   ],
   "source": [
    "df_selfacq.info()"
   ],
   "metadata": {
    "collapsed": false,
    "ExecuteTime": {
     "end_time": "2023-05-31T11:23:49.698683900Z",
     "start_time": "2023-05-31T11:23:49.693160200Z"
    }
   }
  },
  {
   "cell_type": "markdown",
   "source": [
    "# Pandas DataFrame <-> Pydantic Model JSON Input Format"
   ],
   "metadata": {
    "collapsed": false
   }
  },
  {
   "cell_type": "code",
   "execution_count": null,
   "outputs": [],
   "source": [
    "# load json example\n",
    "ecg_batch = json.loads(\"\"\"{\n",
    "                \"supervisor\": \"Lieschen Mueller\",\n",
    "                \"record_date\": \"2034-01-16\",\n",
    "                \"configs\": {\n",
    "                    \"device_name\": \"bioplux\",\n",
    "                    \"frequency\": 360,\n",
    "                    \"signal\": \"chest\",\n",
    "                    \"window_slicing_method\": \"time_related\",\n",
    "                    \"window_size\": 5.0\n",
    "                },\n",
    "                \"samples\": [\n",
    "                    {\n",
    "                      \"sample_id\": \"f70c1033-36ae-4b8b-8b89-099a96dccca5\",\n",
    "                      \"subject_id\": \"participant_1\",\n",
    "                      \"timestamp_idx\": [1679709871, 1679713471, 1679720671, 1679724071, 1679727471, 1679730871, 1679734271, 1679737671, 1679741071, 1679744471, 1679747871, 1679751271, 1679754671],\n",
    "                      \"ecg\": [1.0, -1.100878, -3.996840, 0.5, -2.345, 1.234, -0.987, 2.345, -1.234, 0.5, 1.0, 1.0, 1.0],\n",
    "                      \"label\": [\"undefined\", \"stress\", \"undefined\", \"undefined\", \"calm\", \"undefined\", \"stress\", \"calm\", \"undefined\", \"stress\", \"undefined\", \"undefined\", \"undefined\"]\n",
    "                    },\n",
    "                    {\n",
    "                      \"sample_id\": \"sample_id_2\",\n",
    "                      \"subject_id\": \"participant_2\",\n",
    "                      \"timestamp_idx\": [1679709871, 1679713471, 1679720671, 1679724071, 1679727471, 1679730871, 1679734271, 1679737671, 1679741071, 1679744471, 1679747871, 1679751271, 1679754671],\n",
    "                      \"ecg\": [1.2, -1.567, -3.456, 0.7, -2.789, 1.876, -0.345, 2.567, -1.876, 0.7, 1.0, 1.0, 1.0],\n",
    "                      \"label\": [\"undefined\", \"stress\", \"undefined\", \"calm\", \"undefined\", \"stress\", \"calm\", \"undefined\", \"stress\", \"undefined\", \"undefined\", \"undefined\", \"undefined\"]\n",
    "                    },\n",
    "                    {\n",
    "                      \"sample_id\": \"sample_id_3\",\n",
    "                      \"subject_id\": \"participant_3\",\n",
    "                      \"timestamp_idx\": [1679709871, 1679713471, 1679720671, 1679724071, 1679727471, 1679730871, 1679734271, 1679737671, 1679741071, 1679744471, 1679747871, 1679751271, 1679754671],\n",
    "                      \"ecg\": [0.8, -1.234, -3.789, 0.9, -2.567, 1.456, -0.234, 2.789, -1.456, 0.9, 1.0, 1.0, 1.0],\n",
    "                      \"label\": [\"undefined\", \"calm\", \"stress\", \"undefined\", \"stress\", \"undefined\", \"calm\", \"undefined\", \"stress\", \"undefined\", \"undefined\", \"undefined\", \"undefined\"]\n",
    "                    }\n",
    "                  ]\n",
    "            }\"\"\")"
   ],
   "metadata": {
    "collapsed": false
   }
  },
  {
   "cell_type": "markdown",
   "source": [
    "### Json to Pandas"
   ],
   "metadata": {
    "collapsed": false
   }
  },
  {
   "cell_type": "code",
   "execution_count": null,
   "outputs": [],
   "source": [
    "# to pandas\n",
    "df = pd.json_normalize(ecg_batch, record_path=['samples'], meta=['supervisor', 'record_date', ['configs', 'device_name'], ['configs', 'frequency'], ['configs', 'signal'], ['configs', 'window_slicing_method'], ['configs', 'window_size']])"
   ],
   "metadata": {
    "collapsed": false
   }
  },
  {
   "cell_type": "code",
   "execution_count": null,
   "outputs": [],
   "source": [
    "df"
   ],
   "metadata": {
    "collapsed": false
   }
  },
  {
   "cell_type": "code",
   "execution_count": null,
   "outputs": [],
   "source": [
    "# explode every list colmn to rows\n",
    "df_exploded = df.explode(['timestamp_idx', 'ecg', 'label'])"
   ],
   "metadata": {
    "collapsed": false
   }
  },
  {
   "cell_type": "code",
   "execution_count": null,
   "outputs": [],
   "source": [
    "df_exploded"
   ],
   "metadata": {
    "collapsed": false
   }
  },
  {
   "cell_type": "code",
   "execution_count": null,
   "outputs": [],
   "source": [
    "# make function from json to pandas\n",
    "# possible To-DO: auto fill meta characters by looking trough json file\n",
    "def json_to_pandas(json_data, meta=None):\n",
    "    \"\"\"\n",
    "    Convert JSON data to a Pandas DataFrame.\n",
    "\n",
    "    This function takes a JSON data object and performs transformations to convert it into a structured Pandas DataFrame. The input JSON data should have a nested structure containing a list of samples, along with additional metadata such as supervisor, record_date and configs.frequency. More metadata can be added by extending the meta parameter.\n",
    "\n",
    "    :json_data: JSON data object to convert to Pandas DataFrame.\n",
    "    :type json_data: dict\n",
    "    :meta: Additional metadata to include in the DataFrame, defaults to None. The meta parameter should be a list of strings, where each string is a path to a nested key in the JSON data object.\n",
    "    :type meta: list, optional\n",
    "\n",
    "    :return: Pandas DataFrame containing the JSON data.\n",
    "    :rtype: pandas.DataFrame\n",
    "    \"\"\"\n",
    "    df = pd.json_normalize(json_data, record_path=['samples'], meta=['supervisor', 'record_date', ['configs', 'frequency']] + meta)\n",
    "    df_exploded = df.explode(['timestamp_idx', 'ecg', 'label'])\n",
    "\n",
    "    return df_exploded"
   ],
   "metadata": {
    "collapsed": false
   }
  },
  {
   "cell_type": "code",
   "execution_count": null,
   "outputs": [],
   "source": [
    "# test function\n",
    "df_test = json_to_pandas(ecg_batch, meta=[['configs', 'device_name'], ['configs', 'signal'], ['configs', 'window_slicing_method'], ['configs', 'window_size']])"
   ],
   "metadata": {
    "collapsed": false
   }
  },
  {
   "cell_type": "code",
   "execution_count": null,
   "outputs": [],
   "source": [
    "df_test"
   ],
   "metadata": {
    "collapsed": false
   }
  },
  {
   "cell_type": "markdown",
   "source": [
    "### Pandas to JSON"
   ],
   "metadata": {
    "collapsed": false
   }
  },
  {
   "cell_type": "code",
   "execution_count": null,
   "outputs": [],
   "source": [
    "# inverse pandas explode\n",
    "exploded_cols = ['timestamp_idx', 'ecg', 'label']\n",
    "df_imploded = df_exploded.groupby(list(set(df_exploded.columns) - set(exploded_cols))) \\\n",
    "    .agg({'timestamp_idx': list,\n",
    "          'ecg': list,\n",
    "          'label': list}) \\\n",
    "    .reset_index()"
   ],
   "metadata": {
    "collapsed": false
   }
  },
  {
   "cell_type": "code",
   "execution_count": null,
   "outputs": [],
   "source": [
    "df_imploded"
   ],
   "metadata": {
    "collapsed": false
   }
  },
  {
   "cell_type": "code",
   "execution_count": null,
   "outputs": [],
   "source": [
    "# get configs dict\n",
    "config_cols = df_imploded.columns[df_imploded.columns.str.startswith('configs')]\n",
    "configs_dict = df_imploded[config_cols].rename(columns=lambda x: x.removeprefix('configs.')).to_dict('records')[0]"
   ],
   "metadata": {
    "collapsed": false
   }
  },
  {
   "cell_type": "code",
   "execution_count": null,
   "outputs": [],
   "source": [
    "configs_dict"
   ],
   "metadata": {
    "collapsed": false
   }
  },
  {
   "cell_type": "code",
   "execution_count": null,
   "outputs": [],
   "source": [
    "# get sample dicts\n",
    "sample_cols = ['sample_id', 'subject_id', 'timestamp_idx', 'ecg', 'label']\n",
    "samples = df_imploded[sample_cols].to_dict('records')"
   ],
   "metadata": {
    "collapsed": false
   }
  },
  {
   "cell_type": "code",
   "execution_count": null,
   "outputs": [],
   "source": [
    "samples"
   ],
   "metadata": {
    "collapsed": false
   }
  },
  {
   "cell_type": "code",
   "execution_count": null,
   "outputs": [],
   "source": [
    "# create json dict\n",
    "json_dict = {\n",
    "    'supervisor': df_imploded['supervisor'].iloc[0],\n",
    "    'record_date': df_imploded['record_date'].iloc[0],\n",
    "    'configs': configs_dict,\n",
    "    'samples': samples\n",
    "}"
   ],
   "metadata": {
    "collapsed": false
   }
  },
  {
   "cell_type": "code",
   "execution_count": null,
   "outputs": [],
   "source": [
    "# dict to json and save\n",
    "with open('../data/example0_input.json', 'w') as file:\n",
    "    json.dump(json_dict, file, indent=4)"
   ],
   "metadata": {
    "collapsed": false
   }
  },
  {
   "cell_type": "code",
   "execution_count": null,
   "outputs": [],
   "source": [
    "# make function from pandas to json\n",
    "def pandas_to_json(df_exploded, save_path=None):\n",
    "    \"\"\"\n",
    "    Convert a Pandas DataFrame to JSON data dict.\n",
    "\n",
    "    This function takes a Pandas DataFrame and performs transformations to convert it into a JSON data dict.\n",
    "\n",
    "    :param df_exploded: Pandas DataFrame to convert to JSON data dict.\n",
    "    :type df_exploded: pandas.DataFrame\n",
    "    :param save_path: Path to save the JSON data dict to, defaults to None. If None, the JSON data dict will not be saved.\n",
    "    :type save_path: str, optional\n",
    "\n",
    "    :return: JSON data dict containing the Pandas DataFrame.\n",
    "    :rtype: dict\n",
    "    \"\"\"\n",
    "    # inverse pandas explode\n",
    "    exploded_cols = ['timestamp_idx', 'ecg', 'label']\n",
    "    df_imploded = df_exploded.groupby(list(set(df_exploded.columns) - set(exploded_cols))) \\\n",
    "        .agg({'timestamp_idx': list,\n",
    "              'ecg': list,\n",
    "              'label': list}) \\\n",
    "        .reset_index()\n",
    "\n",
    "    # get configs dict\n",
    "    config_cols = df_imploded.columns[df_imploded.columns.str.startswith('configs')]\n",
    "    configs_dict = df_imploded[config_cols].rename(columns=lambda x: x.removeprefix('configs.')).to_dict('records')[0]\n",
    "\n",
    "    # get sample dicts\n",
    "    sample_cols = ['sample_id', 'subject_id', 'timestamp_idx', 'ecg', 'label']\n",
    "    samples = df_imploded[sample_cols].to_dict('records')\n",
    "\n",
    "    # create json dict\n",
    "    json_dict = {\n",
    "        'supervisor': df_imploded['supervisor'].iloc[0],\n",
    "        'record_date': df_imploded['record_date'].iloc[0],\n",
    "        'configs': configs_dict,\n",
    "        'samples': samples\n",
    "    }\n",
    "\n",
    "    if save_path:\n",
    "        # dict to json and save\n",
    "        with open(save_path, 'w') as file:\n",
    "            json.dump(json_dict, file, indent=4)\n",
    "\n",
    "    return json_dict"
   ],
   "metadata": {
    "collapsed": false
   }
  },
  {
   "cell_type": "code",
   "execution_count": null,
   "outputs": [],
   "source": [
    "# test pandas to json fucntion\n",
    "json_test = pandas_to_json(df_exploded, '../data/example0_input_test.json')"
   ],
   "metadata": {
    "collapsed": false
   }
  },
  {
   "cell_type": "markdown",
   "source": [
    "# Pandas DataFrame <-> CSV Input Format"
   ],
   "metadata": {
    "collapsed": false
   }
  },
  {
   "cell_type": "markdown",
   "source": [
    "# Build proper example files\n",
    "Given the input of a h5 file we are building a json file as well as a csv file. These files contain a formatted version of the self acquired ecg data of the h5 file. The h5 file is the direct output of the ecg acquisition device with it`s corresponding software, opensignals. As input both take a pandas dataframe build from the h5 file as can be seen in the first chapter of this notebook (Pandas DataFrame <-> H5 Input Format). The json file is build with the function pandas_to_json() and the csv file is build with the function pandas_to_csv(). Both functions are defined in the previous code cells."
   ],
   "metadata": {
    "collapsed": false
   }
  },
  {
   "cell_type": "code",
   "execution_count": 11,
   "outputs": [
    {
     "data": {
      "text/plain": "2206350"
     },
     "execution_count": 11,
     "metadata": {},
     "output_type": "execute_result"
    }
   ],
   "source": [
    "len(df_selfacq)"
   ],
   "metadata": {
    "collapsed": false,
    "ExecuteTime": {
     "end_time": "2023-05-31T11:23:49.742502800Z",
     "start_time": "2023-05-31T11:23:49.699685200Z"
    }
   }
  },
  {
   "cell_type": "code",
   "execution_count": 14,
   "outputs": [
    {
     "name": "stdout",
     "output_type": "stream",
     "text": [
      "Length of 60000 with a sampling rate of 1000 represents a time of 60.0 seconds !\n"
     ]
    }
   ],
   "source": [
    "# sample data, because it is too big for just a test\n",
    "df = df_selfacq.iloc[1000000:1060000]\n",
    "print(f'Length of {len(df)} with a sampling rate of 1000 represents a time of {len(df)/1000} seconds !')"
   ],
   "metadata": {
    "collapsed": false,
    "ExecuteTime": {
     "end_time": "2023-05-31T11:23:54.812146700Z",
     "start_time": "2023-05-31T11:23:54.799611300Z"
    }
   }
  },
  {
   "cell_type": "code",
   "execution_count": null,
   "outputs": [],
   "source": [
    "df"
   ],
   "metadata": {
    "collapsed": false
   }
  },
  {
   "cell_type": "code",
   "execution_count": null,
   "outputs": [],
   "source": [
    "# make json\n",
    "json_test = pandas_to_json(df, '../data/example1_input.json')"
   ],
   "metadata": {
    "collapsed": false
   }
  },
  {
   "cell_type": "code",
   "execution_count": null,
   "outputs": [],
   "source": [
    "# make csv\n",
    "csv_df = df.drop(list(config_cols) + ['supervisor', 'record_date'], axis=1)\n",
    "csv_test = csv_df.to_csv('../data/example1_input_without_header.csv', index=False)"
   ],
   "metadata": {
    "collapsed": false
   }
  },
  {
   "cell_type": "markdown",
   "source": [
    "# Window Slicing and Processing"
   ],
   "metadata": {
    "collapsed": false
   }
  },
  {
   "cell_type": "code",
   "execution_count": 15,
   "outputs": [],
   "source": [
    "def create_windows(df, time_column, window_size=5.0, window_slicing_method='time_related'):\n",
    "    \"\"\"\n",
    "    Slices a dataframe into windows of a given size. The windows can be sliced in different ways. The windows are returned as a generator of dataframes. The dataframe must have a column containing timestamps and be indexed by it.\n",
    "\n",
    "    :param df: The dataframe to slice.\n",
    "    :type df: pandas.DataFrame\n",
    "    :param time_column: The name of the column containing the timestamps.\n",
    "    :type time_column: str\n",
    "    :param window_size: The size of the windows in seconds.\n",
    "    :type window_size: int\n",
    "    :param window_slicing_method: The method used to slice the windows.\n",
    "    :type window_slicing_method: str\n",
    "\n",
    "    :return: A generator of dataframes containing the windows.\n",
    "    :rtype: generator\n",
    "    \"\"\"\n",
    "    # Convert the timestamp column to datetime if it's not already\n",
    "    if not pd.api.types.is_datetime64_ns_dtype(df[time_column]):\n",
    "        df[time_column] = pd.to_datetime(df[time_column])\n",
    "\n",
    "    # Slice the dataframe into windows\n",
    "    if window_slicing_method == 'time_related':\n",
    "        # Resample the dataframe every x seconds\n",
    "        result_dfs = [group for _, group in df.groupby(pd.Grouper(key=time_column, freq=f'{window_size}S'))]\n",
    "        return result_dfs\n",
    "    elif window_slicing_method == 'label_related_before':\n",
    "        pass\n",
    "    elif window_slicing_method == 'label_related_after':\n",
    "        pass\n",
    "    elif window_slicing_method == 'label_related_centered':\n",
    "        pass\n",
    "    else:\n",
    "        raise ValueError(f'window_slicing_method {window_slicing_method} not supported')"
   ],
   "metadata": {
    "collapsed": false,
    "ExecuteTime": {
     "end_time": "2023-05-31T11:23:57.771729300Z",
     "start_time": "2023-05-31T11:23:57.754541900Z"
    }
   }
  },
  {
   "cell_type": "code",
   "execution_count": 16,
   "outputs": [
    {
     "data": {
      "text/plain": "                   timestamp_idx     ecg      label  \\\n1000000  2023-05-23 23:19:41.335  1500.0  undefined   \n1000001  2023-05-23 23:19:41.336  4405.0  undefined   \n1000002  2023-05-23 23:19:41.337  3072.0  undefined   \n1000003  2023-05-23 23:19:41.338  1405.0  undefined   \n1000004  2023-05-23 23:19:41.339   838.0  undefined   \n...                          ...     ...        ...   \n1059995  2023-05-23 23:20:41.330  2771.0  undefined   \n1059996  2023-05-23 23:20:41.331  2040.0  undefined   \n1059997  2023-05-23 23:20:41.332  1960.0  undefined   \n1059998  2023-05-23 23:20:41.333  1861.0  undefined   \n1059999  2023-05-23 23:20:41.334  1180.0  undefined   \n\n                                    sample_id     subject_id  \\\n1000000  f70c1033-36ae-4b8b-8b89-099a96dccca5  participant_1   \n1000001  f70c1033-36ae-4b8b-8b89-099a96dccca5  participant_1   \n1000002  f70c1033-36ae-4b8b-8b89-099a96dccca5  participant_1   \n1000003  f70c1033-36ae-4b8b-8b89-099a96dccca5  participant_1   \n1000004  f70c1033-36ae-4b8b-8b89-099a96dccca5  participant_1   \n...                                       ...            ...   \n1059995  f70c1033-36ae-4b8b-8b89-099a96dccca5  participant_1   \n1059996  f70c1033-36ae-4b8b-8b89-099a96dccca5  participant_1   \n1059997  f70c1033-36ae-4b8b-8b89-099a96dccca5  participant_1   \n1059998  f70c1033-36ae-4b8b-8b89-099a96dccca5  participant_1   \n1059999  f70c1033-36ae-4b8b-8b89-099a96dccca5  participant_1   \n\n               supervisor record_date configs.device_name  configs.frequency  \\\n1000000  Lieschen Mueller  2034-01-16             bioplux               1000   \n1000001  Lieschen Mueller  2034-01-16             bioplux               1000   \n1000002  Lieschen Mueller  2034-01-16             bioplux               1000   \n1000003  Lieschen Mueller  2034-01-16             bioplux               1000   \n1000004  Lieschen Mueller  2034-01-16             bioplux               1000   \n...                   ...         ...                 ...                ...   \n1059995  Lieschen Mueller  2034-01-16             bioplux               1000   \n1059996  Lieschen Mueller  2034-01-16             bioplux               1000   \n1059997  Lieschen Mueller  2034-01-16             bioplux               1000   \n1059998  Lieschen Mueller  2034-01-16             bioplux               1000   \n1059999  Lieschen Mueller  2034-01-16             bioplux               1000   \n\n        configs.signal configs.window_slicing_method  configs.window_size  \n1000000          chest                  time_related                  5.0  \n1000001          chest                  time_related                  5.0  \n1000002          chest                  time_related                  5.0  \n1000003          chest                  time_related                  5.0  \n1000004          chest                  time_related                  5.0  \n...                ...                           ...                  ...  \n1059995          chest                  time_related                  5.0  \n1059996          chest                  time_related                  5.0  \n1059997          chest                  time_related                  5.0  \n1059998          chest                  time_related                  5.0  \n1059999          chest                  time_related                  5.0  \n\n[60000 rows x 12 columns]",
      "text/html": "<div>\n<style scoped>\n    .dataframe tbody tr th:only-of-type {\n        vertical-align: middle;\n    }\n\n    .dataframe tbody tr th {\n        vertical-align: top;\n    }\n\n    .dataframe thead th {\n        text-align: right;\n    }\n</style>\n<table border=\"1\" class=\"dataframe\">\n  <thead>\n    <tr style=\"text-align: right;\">\n      <th></th>\n      <th>timestamp_idx</th>\n      <th>ecg</th>\n      <th>label</th>\n      <th>sample_id</th>\n      <th>subject_id</th>\n      <th>supervisor</th>\n      <th>record_date</th>\n      <th>configs.device_name</th>\n      <th>configs.frequency</th>\n      <th>configs.signal</th>\n      <th>configs.window_slicing_method</th>\n      <th>configs.window_size</th>\n    </tr>\n  </thead>\n  <tbody>\n    <tr>\n      <th>1000000</th>\n      <td>2023-05-23 23:19:41.335</td>\n      <td>1500.0</td>\n      <td>undefined</td>\n      <td>f70c1033-36ae-4b8b-8b89-099a96dccca5</td>\n      <td>participant_1</td>\n      <td>Lieschen Mueller</td>\n      <td>2034-01-16</td>\n      <td>bioplux</td>\n      <td>1000</td>\n      <td>chest</td>\n      <td>time_related</td>\n      <td>5.0</td>\n    </tr>\n    <tr>\n      <th>1000001</th>\n      <td>2023-05-23 23:19:41.336</td>\n      <td>4405.0</td>\n      <td>undefined</td>\n      <td>f70c1033-36ae-4b8b-8b89-099a96dccca5</td>\n      <td>participant_1</td>\n      <td>Lieschen Mueller</td>\n      <td>2034-01-16</td>\n      <td>bioplux</td>\n      <td>1000</td>\n      <td>chest</td>\n      <td>time_related</td>\n      <td>5.0</td>\n    </tr>\n    <tr>\n      <th>1000002</th>\n      <td>2023-05-23 23:19:41.337</td>\n      <td>3072.0</td>\n      <td>undefined</td>\n      <td>f70c1033-36ae-4b8b-8b89-099a96dccca5</td>\n      <td>participant_1</td>\n      <td>Lieschen Mueller</td>\n      <td>2034-01-16</td>\n      <td>bioplux</td>\n      <td>1000</td>\n      <td>chest</td>\n      <td>time_related</td>\n      <td>5.0</td>\n    </tr>\n    <tr>\n      <th>1000003</th>\n      <td>2023-05-23 23:19:41.338</td>\n      <td>1405.0</td>\n      <td>undefined</td>\n      <td>f70c1033-36ae-4b8b-8b89-099a96dccca5</td>\n      <td>participant_1</td>\n      <td>Lieschen Mueller</td>\n      <td>2034-01-16</td>\n      <td>bioplux</td>\n      <td>1000</td>\n      <td>chest</td>\n      <td>time_related</td>\n      <td>5.0</td>\n    </tr>\n    <tr>\n      <th>1000004</th>\n      <td>2023-05-23 23:19:41.339</td>\n      <td>838.0</td>\n      <td>undefined</td>\n      <td>f70c1033-36ae-4b8b-8b89-099a96dccca5</td>\n      <td>participant_1</td>\n      <td>Lieschen Mueller</td>\n      <td>2034-01-16</td>\n      <td>bioplux</td>\n      <td>1000</td>\n      <td>chest</td>\n      <td>time_related</td>\n      <td>5.0</td>\n    </tr>\n    <tr>\n      <th>...</th>\n      <td>...</td>\n      <td>...</td>\n      <td>...</td>\n      <td>...</td>\n      <td>...</td>\n      <td>...</td>\n      <td>...</td>\n      <td>...</td>\n      <td>...</td>\n      <td>...</td>\n      <td>...</td>\n      <td>...</td>\n    </tr>\n    <tr>\n      <th>1059995</th>\n      <td>2023-05-23 23:20:41.330</td>\n      <td>2771.0</td>\n      <td>undefined</td>\n      <td>f70c1033-36ae-4b8b-8b89-099a96dccca5</td>\n      <td>participant_1</td>\n      <td>Lieschen Mueller</td>\n      <td>2034-01-16</td>\n      <td>bioplux</td>\n      <td>1000</td>\n      <td>chest</td>\n      <td>time_related</td>\n      <td>5.0</td>\n    </tr>\n    <tr>\n      <th>1059996</th>\n      <td>2023-05-23 23:20:41.331</td>\n      <td>2040.0</td>\n      <td>undefined</td>\n      <td>f70c1033-36ae-4b8b-8b89-099a96dccca5</td>\n      <td>participant_1</td>\n      <td>Lieschen Mueller</td>\n      <td>2034-01-16</td>\n      <td>bioplux</td>\n      <td>1000</td>\n      <td>chest</td>\n      <td>time_related</td>\n      <td>5.0</td>\n    </tr>\n    <tr>\n      <th>1059997</th>\n      <td>2023-05-23 23:20:41.332</td>\n      <td>1960.0</td>\n      <td>undefined</td>\n      <td>f70c1033-36ae-4b8b-8b89-099a96dccca5</td>\n      <td>participant_1</td>\n      <td>Lieschen Mueller</td>\n      <td>2034-01-16</td>\n      <td>bioplux</td>\n      <td>1000</td>\n      <td>chest</td>\n      <td>time_related</td>\n      <td>5.0</td>\n    </tr>\n    <tr>\n      <th>1059998</th>\n      <td>2023-05-23 23:20:41.333</td>\n      <td>1861.0</td>\n      <td>undefined</td>\n      <td>f70c1033-36ae-4b8b-8b89-099a96dccca5</td>\n      <td>participant_1</td>\n      <td>Lieschen Mueller</td>\n      <td>2034-01-16</td>\n      <td>bioplux</td>\n      <td>1000</td>\n      <td>chest</td>\n      <td>time_related</td>\n      <td>5.0</td>\n    </tr>\n    <tr>\n      <th>1059999</th>\n      <td>2023-05-23 23:20:41.334</td>\n      <td>1180.0</td>\n      <td>undefined</td>\n      <td>f70c1033-36ae-4b8b-8b89-099a96dccca5</td>\n      <td>participant_1</td>\n      <td>Lieschen Mueller</td>\n      <td>2034-01-16</td>\n      <td>bioplux</td>\n      <td>1000</td>\n      <td>chest</td>\n      <td>time_related</td>\n      <td>5.0</td>\n    </tr>\n  </tbody>\n</table>\n<p>60000 rows × 12 columns</p>\n</div>"
     },
     "execution_count": 16,
     "metadata": {},
     "output_type": "execute_result"
    }
   ],
   "source": [
    "df"
   ],
   "metadata": {
    "collapsed": false,
    "ExecuteTime": {
     "end_time": "2023-05-31T11:23:59.171795Z",
     "start_time": "2023-05-31T11:23:59.149322500Z"
    }
   }
  },
  {
   "cell_type": "code",
   "execution_count": 17,
   "outputs": [
    {
     "name": "stdout",
     "output_type": "stream",
     "text": [
      "Number of windows: 13\n",
      "CPU times: total: 93.8 ms\n",
      "Wall time: 246 ms\n"
     ]
    },
    {
     "name": "stderr",
     "output_type": "stream",
     "text": [
      "<timed exec>:2: SettingWithCopyWarning: \n",
      "A value is trying to be set on a copy of a slice from a DataFrame.\n",
      "Try using .loc[row_indexer,col_indexer] = value instead\n",
      "\n",
      "See the caveats in the documentation: https://pandas.pydata.org/pandas-docs/stable/user_guide/indexing.html#returning-a-view-versus-a-copy\n",
      "C:\\Users\\merti\\AppData\\Local\\Temp\\ipykernel_2440\\2511195147.py:19: SettingWithCopyWarning: \n",
      "A value is trying to be set on a copy of a slice from a DataFrame.\n",
      "Try using .loc[row_indexer,col_indexer] = value instead\n",
      "\n",
      "See the caveats in the documentation: https://pandas.pydata.org/pandas-docs/stable/user_guide/indexing.html#returning-a-view-versus-a-copy\n",
      "  df[time_column] = pd.to_datetime(df[time_column])\n",
      "C:\\Users\\merti\\anaconda3\\envs\\py310\\lib\\site-packages\\scipy\\signal\\_spectral_py.py:2014: UserWarning: nperseg = 256 is greater than input length  = 5, using nperseg = 5\n",
      "  warnings.warn('nperseg = {0:d} is greater than input length '\n",
      "C:\\Users\\merti\\PycharmProjects\\sem-biosignals-ecg-feature-processing-api\\src\\feature_extraction.py:58: RuntimeWarning: invalid value encountered in scalar divide\n",
      "  lf_hf_ratio = lf_band / hf_band\n",
      "C:\\Users\\merti\\anaconda3\\envs\\py310\\lib\\site-packages\\scipy\\signal\\_spectral_py.py:2014: UserWarning: nperseg = 256 is greater than input length  = 12, using nperseg = 12\n",
      "  warnings.warn('nperseg = {0:d} is greater than input length '\n",
      "C:\\Users\\merti\\PycharmProjects\\sem-biosignals-ecg-feature-processing-api\\src\\feature_extraction.py:58: RuntimeWarning: invalid value encountered in scalar divide\n",
      "  lf_hf_ratio = lf_band / hf_band\n",
      "C:\\Users\\merti\\anaconda3\\envs\\py310\\lib\\site-packages\\scipy\\signal\\_spectral_py.py:2014: UserWarning: nperseg = 256 is greater than input length  = 11, using nperseg = 11\n",
      "  warnings.warn('nperseg = {0:d} is greater than input length '\n",
      "C:\\Users\\merti\\PycharmProjects\\sem-biosignals-ecg-feature-processing-api\\src\\feature_extraction.py:58: RuntimeWarning: invalid value encountered in scalar divide\n",
      "  lf_hf_ratio = lf_band / hf_band\n",
      "C:\\Users\\merti\\anaconda3\\envs\\py310\\lib\\site-packages\\scipy\\signal\\_spectral_py.py:2014: UserWarning: nperseg = 256 is greater than input length  = 10, using nperseg = 10\n",
      "  warnings.warn('nperseg = {0:d} is greater than input length '\n",
      "C:\\Users\\merti\\PycharmProjects\\sem-biosignals-ecg-feature-processing-api\\src\\feature_extraction.py:58: RuntimeWarning: invalid value encountered in scalar divide\n",
      "  lf_hf_ratio = lf_band / hf_band\n",
      "C:\\Users\\merti\\anaconda3\\envs\\py310\\lib\\site-packages\\scipy\\signal\\_spectral_py.py:2014: UserWarning: nperseg = 256 is greater than input length  = 12, using nperseg = 12\n",
      "  warnings.warn('nperseg = {0:d} is greater than input length '\n",
      "C:\\Users\\merti\\PycharmProjects\\sem-biosignals-ecg-feature-processing-api\\src\\feature_extraction.py:58: RuntimeWarning: invalid value encountered in scalar divide\n",
      "  lf_hf_ratio = lf_band / hf_band\n",
      "C:\\Users\\merti\\anaconda3\\envs\\py310\\lib\\site-packages\\scipy\\signal\\_spectral_py.py:2014: UserWarning: nperseg = 256 is greater than input length  = 11, using nperseg = 11\n",
      "  warnings.warn('nperseg = {0:d} is greater than input length '\n",
      "C:\\Users\\merti\\PycharmProjects\\sem-biosignals-ecg-feature-processing-api\\src\\feature_extraction.py:58: RuntimeWarning: invalid value encountered in scalar divide\n",
      "  lf_hf_ratio = lf_band / hf_band\n",
      "C:\\Users\\merti\\anaconda3\\envs\\py310\\lib\\site-packages\\scipy\\signal\\_spectral_py.py:2014: UserWarning: nperseg = 256 is greater than input length  = 16, using nperseg = 16\n",
      "  warnings.warn('nperseg = {0:d} is greater than input length '\n",
      "C:\\Users\\merti\\PycharmProjects\\sem-biosignals-ecg-feature-processing-api\\src\\feature_extraction.py:58: RuntimeWarning: invalid value encountered in scalar divide\n",
      "  lf_hf_ratio = lf_band / hf_band\n",
      "C:\\Users\\merti\\anaconda3\\envs\\py310\\lib\\site-packages\\scipy\\signal\\_spectral_py.py:2014: UserWarning: nperseg = 256 is greater than input length  = 11, using nperseg = 11\n",
      "  warnings.warn('nperseg = {0:d} is greater than input length '\n",
      "C:\\Users\\merti\\PycharmProjects\\sem-biosignals-ecg-feature-processing-api\\src\\feature_extraction.py:58: RuntimeWarning: invalid value encountered in scalar divide\n",
      "  lf_hf_ratio = lf_band / hf_band\n",
      "C:\\Users\\merti\\anaconda3\\envs\\py310\\lib\\site-packages\\scipy\\signal\\_spectral_py.py:2014: UserWarning: nperseg = 256 is greater than input length  = 13, using nperseg = 13\n",
      "  warnings.warn('nperseg = {0:d} is greater than input length '\n",
      "C:\\Users\\merti\\PycharmProjects\\sem-biosignals-ecg-feature-processing-api\\src\\feature_extraction.py:58: RuntimeWarning: invalid value encountered in scalar divide\n",
      "  lf_hf_ratio = lf_band / hf_band\n",
      "C:\\Users\\merti\\anaconda3\\envs\\py310\\lib\\site-packages\\scipy\\signal\\_spectral_py.py:2014: UserWarning: nperseg = 256 is greater than input length  = 10, using nperseg = 10\n",
      "  warnings.warn('nperseg = {0:d} is greater than input length '\n",
      "C:\\Users\\merti\\PycharmProjects\\sem-biosignals-ecg-feature-processing-api\\src\\feature_extraction.py:58: RuntimeWarning: invalid value encountered in scalar divide\n",
      "  lf_hf_ratio = lf_band / hf_band\n",
      "C:\\Users\\merti\\anaconda3\\envs\\py310\\lib\\site-packages\\scipy\\signal\\_spectral_py.py:2014: UserWarning: nperseg = 256 is greater than input length  = 10, using nperseg = 10\n",
      "  warnings.warn('nperseg = {0:d} is greater than input length '\n",
      "C:\\Users\\merti\\PycharmProjects\\sem-biosignals-ecg-feature-processing-api\\src\\feature_extraction.py:58: RuntimeWarning: invalid value encountered in scalar divide\n",
      "  lf_hf_ratio = lf_band / hf_band\n",
      "C:\\Users\\merti\\anaconda3\\envs\\py310\\lib\\site-packages\\scipy\\signal\\_spectral_py.py:2014: UserWarning: nperseg = 256 is greater than input length  = 12, using nperseg = 12\n",
      "  warnings.warn('nperseg = {0:d} is greater than input length '\n",
      "C:\\Users\\merti\\PycharmProjects\\sem-biosignals-ecg-feature-processing-api\\src\\feature_extraction.py:58: RuntimeWarning: invalid value encountered in scalar divide\n",
      "  lf_hf_ratio = lf_band / hf_band\n",
      "C:\\Users\\merti\\anaconda3\\envs\\py310\\lib\\site-packages\\scipy\\signal\\_spectral_py.py:2014: UserWarning: nperseg = 256 is greater than input length  = 3, using nperseg = 3\n",
      "  warnings.warn('nperseg = {0:d} is greater than input length '\n",
      "C:\\Users\\merti\\PycharmProjects\\sem-biosignals-ecg-feature-processing-api\\src\\feature_extraction.py:58: RuntimeWarning: invalid value encountered in scalar divide\n",
      "  lf_hf_ratio = lf_band / hf_band\n"
     ]
    }
   ],
   "source": [
    "%%time\n",
    "# preprocess ecg\n",
    "df['ecg'] = nk.ecg_clean(df['ecg'], sampling_rate=1000, method=\"pantompkins1985\")\n",
    "# slice in windows (window_size and window_slicing_method)\n",
    "windows = create_windows(df, time_column='timestamp_idx', window_size=5.0)\n",
    "print(f'Number of windows: {len(list(windows))}')\n",
    "# compute ecg features vor each window\n",
    "features_df = pd.DataFrame()\n",
    "for i, window in enumerate(windows):\n",
    "    # compute features\n",
    "    features = fe.hrv_features(window['ecg'].values, sampling_rate)\n",
    "    tmp = pd.DataFrame(features, index=[0])\n",
    "    tmp['sample_id'] = df['sample_id'].unique()\n",
    "    tmp['subject_id'] = df['subject_id'].unique()\n",
    "    tmp['window_id'] = i\n",
    "    tmp['w_start_time'] = window['timestamp_idx'].min()\n",
    "    tmp['W_end_time'] = window['timestamp_idx'].max()\n",
    "    # combine features\n",
    "    features_df = pd.concat([features_df, tmp], axis=0)\n",
    "    features_df.reset_index(drop=True, inplace=True)"
   ],
   "metadata": {
    "collapsed": false,
    "ExecuteTime": {
     "end_time": "2023-05-31T11:28:19.185351100Z",
     "start_time": "2023-05-31T11:28:18.933443200Z"
    }
   }
  },
  {
   "cell_type": "code",
   "execution_count": 18,
   "outputs": [
    {
     "data": {
      "text/plain": "     mean_rr      sdnn     rmssd  nn50     pnn50  lf_band  hf_band  \\\n0   0.642600  0.186896  0.336774     3  0.600000      0.0      0.0   \n1   0.348250  0.153873  0.270766     7  0.583333      0.0      0.0   \n2   0.392545  0.117491  0.169679     8  0.727273      0.0      0.0   \n3   0.449400  0.163658  0.184729     8  0.800000      0.0      0.0   \n4   0.367750  0.165213  0.271478    11  0.916667      0.0      0.0   \n5   0.401909  0.134468  0.219575     8  0.727273      0.0      0.0   \n6   0.294875  0.131194  0.200083    12  0.750000      0.0      0.0   \n7   0.398182  0.183843  0.247847     9  0.818182      0.0      0.0   \n8   0.372462  0.149817  0.188498     8  0.615385      0.0      0.0   \n9   0.439300  0.139270  0.188644     9  0.900000      0.0      0.0   \n10  0.471300  0.265004  0.333288     8  0.800000      0.0      0.0   \n11  0.384917  0.140751  0.259010     9  0.750000      0.0      0.0   \n12  0.319333  0.083508  0.174393     2  0.666667      0.0      0.0   \n\n    lf_hf_ratio                             sample_id     subject_id  \\\n0           NaN  f70c1033-36ae-4b8b-8b89-099a96dccca5  participant_1   \n1           NaN  f70c1033-36ae-4b8b-8b89-099a96dccca5  participant_1   \n2           NaN  f70c1033-36ae-4b8b-8b89-099a96dccca5  participant_1   \n3           NaN  f70c1033-36ae-4b8b-8b89-099a96dccca5  participant_1   \n4           NaN  f70c1033-36ae-4b8b-8b89-099a96dccca5  participant_1   \n5           NaN  f70c1033-36ae-4b8b-8b89-099a96dccca5  participant_1   \n6           NaN  f70c1033-36ae-4b8b-8b89-099a96dccca5  participant_1   \n7           NaN  f70c1033-36ae-4b8b-8b89-099a96dccca5  participant_1   \n8           NaN  f70c1033-36ae-4b8b-8b89-099a96dccca5  participant_1   \n9           NaN  f70c1033-36ae-4b8b-8b89-099a96dccca5  participant_1   \n10          NaN  f70c1033-36ae-4b8b-8b89-099a96dccca5  participant_1   \n11          NaN  f70c1033-36ae-4b8b-8b89-099a96dccca5  participant_1   \n12          NaN  f70c1033-36ae-4b8b-8b89-099a96dccca5  participant_1   \n\n    window_id            w_start_time              W_end_time  \n0           0 2023-05-23 23:19:41.335 2023-05-23 23:19:44.999  \n1           1 2023-05-23 23:19:45.000 2023-05-23 23:19:49.999  \n2           2 2023-05-23 23:19:50.000 2023-05-23 23:19:54.999  \n3           3 2023-05-23 23:19:55.000 2023-05-23 23:19:59.999  \n4           4 2023-05-23 23:20:00.000 2023-05-23 23:20:04.999  \n5           5 2023-05-23 23:20:05.000 2023-05-23 23:20:09.999  \n6           6 2023-05-23 23:20:10.000 2023-05-23 23:20:14.999  \n7           7 2023-05-23 23:20:15.000 2023-05-23 23:20:19.999  \n8           8 2023-05-23 23:20:20.000 2023-05-23 23:20:24.999  \n9           9 2023-05-23 23:20:25.000 2023-05-23 23:20:29.999  \n10         10 2023-05-23 23:20:30.000 2023-05-23 23:20:34.999  \n11         11 2023-05-23 23:20:35.000 2023-05-23 23:20:39.999  \n12         12 2023-05-23 23:20:40.000 2023-05-23 23:20:41.334  ",
      "text/html": "<div>\n<style scoped>\n    .dataframe tbody tr th:only-of-type {\n        vertical-align: middle;\n    }\n\n    .dataframe tbody tr th {\n        vertical-align: top;\n    }\n\n    .dataframe thead th {\n        text-align: right;\n    }\n</style>\n<table border=\"1\" class=\"dataframe\">\n  <thead>\n    <tr style=\"text-align: right;\">\n      <th></th>\n      <th>mean_rr</th>\n      <th>sdnn</th>\n      <th>rmssd</th>\n      <th>nn50</th>\n      <th>pnn50</th>\n      <th>lf_band</th>\n      <th>hf_band</th>\n      <th>lf_hf_ratio</th>\n      <th>sample_id</th>\n      <th>subject_id</th>\n      <th>window_id</th>\n      <th>w_start_time</th>\n      <th>W_end_time</th>\n    </tr>\n  </thead>\n  <tbody>\n    <tr>\n      <th>0</th>\n      <td>0.642600</td>\n      <td>0.186896</td>\n      <td>0.336774</td>\n      <td>3</td>\n      <td>0.600000</td>\n      <td>0.0</td>\n      <td>0.0</td>\n      <td>NaN</td>\n      <td>f70c1033-36ae-4b8b-8b89-099a96dccca5</td>\n      <td>participant_1</td>\n      <td>0</td>\n      <td>2023-05-23 23:19:41.335</td>\n      <td>2023-05-23 23:19:44.999</td>\n    </tr>\n    <tr>\n      <th>1</th>\n      <td>0.348250</td>\n      <td>0.153873</td>\n      <td>0.270766</td>\n      <td>7</td>\n      <td>0.583333</td>\n      <td>0.0</td>\n      <td>0.0</td>\n      <td>NaN</td>\n      <td>f70c1033-36ae-4b8b-8b89-099a96dccca5</td>\n      <td>participant_1</td>\n      <td>1</td>\n      <td>2023-05-23 23:19:45.000</td>\n      <td>2023-05-23 23:19:49.999</td>\n    </tr>\n    <tr>\n      <th>2</th>\n      <td>0.392545</td>\n      <td>0.117491</td>\n      <td>0.169679</td>\n      <td>8</td>\n      <td>0.727273</td>\n      <td>0.0</td>\n      <td>0.0</td>\n      <td>NaN</td>\n      <td>f70c1033-36ae-4b8b-8b89-099a96dccca5</td>\n      <td>participant_1</td>\n      <td>2</td>\n      <td>2023-05-23 23:19:50.000</td>\n      <td>2023-05-23 23:19:54.999</td>\n    </tr>\n    <tr>\n      <th>3</th>\n      <td>0.449400</td>\n      <td>0.163658</td>\n      <td>0.184729</td>\n      <td>8</td>\n      <td>0.800000</td>\n      <td>0.0</td>\n      <td>0.0</td>\n      <td>NaN</td>\n      <td>f70c1033-36ae-4b8b-8b89-099a96dccca5</td>\n      <td>participant_1</td>\n      <td>3</td>\n      <td>2023-05-23 23:19:55.000</td>\n      <td>2023-05-23 23:19:59.999</td>\n    </tr>\n    <tr>\n      <th>4</th>\n      <td>0.367750</td>\n      <td>0.165213</td>\n      <td>0.271478</td>\n      <td>11</td>\n      <td>0.916667</td>\n      <td>0.0</td>\n      <td>0.0</td>\n      <td>NaN</td>\n      <td>f70c1033-36ae-4b8b-8b89-099a96dccca5</td>\n      <td>participant_1</td>\n      <td>4</td>\n      <td>2023-05-23 23:20:00.000</td>\n      <td>2023-05-23 23:20:04.999</td>\n    </tr>\n    <tr>\n      <th>5</th>\n      <td>0.401909</td>\n      <td>0.134468</td>\n      <td>0.219575</td>\n      <td>8</td>\n      <td>0.727273</td>\n      <td>0.0</td>\n      <td>0.0</td>\n      <td>NaN</td>\n      <td>f70c1033-36ae-4b8b-8b89-099a96dccca5</td>\n      <td>participant_1</td>\n      <td>5</td>\n      <td>2023-05-23 23:20:05.000</td>\n      <td>2023-05-23 23:20:09.999</td>\n    </tr>\n    <tr>\n      <th>6</th>\n      <td>0.294875</td>\n      <td>0.131194</td>\n      <td>0.200083</td>\n      <td>12</td>\n      <td>0.750000</td>\n      <td>0.0</td>\n      <td>0.0</td>\n      <td>NaN</td>\n      <td>f70c1033-36ae-4b8b-8b89-099a96dccca5</td>\n      <td>participant_1</td>\n      <td>6</td>\n      <td>2023-05-23 23:20:10.000</td>\n      <td>2023-05-23 23:20:14.999</td>\n    </tr>\n    <tr>\n      <th>7</th>\n      <td>0.398182</td>\n      <td>0.183843</td>\n      <td>0.247847</td>\n      <td>9</td>\n      <td>0.818182</td>\n      <td>0.0</td>\n      <td>0.0</td>\n      <td>NaN</td>\n      <td>f70c1033-36ae-4b8b-8b89-099a96dccca5</td>\n      <td>participant_1</td>\n      <td>7</td>\n      <td>2023-05-23 23:20:15.000</td>\n      <td>2023-05-23 23:20:19.999</td>\n    </tr>\n    <tr>\n      <th>8</th>\n      <td>0.372462</td>\n      <td>0.149817</td>\n      <td>0.188498</td>\n      <td>8</td>\n      <td>0.615385</td>\n      <td>0.0</td>\n      <td>0.0</td>\n      <td>NaN</td>\n      <td>f70c1033-36ae-4b8b-8b89-099a96dccca5</td>\n      <td>participant_1</td>\n      <td>8</td>\n      <td>2023-05-23 23:20:20.000</td>\n      <td>2023-05-23 23:20:24.999</td>\n    </tr>\n    <tr>\n      <th>9</th>\n      <td>0.439300</td>\n      <td>0.139270</td>\n      <td>0.188644</td>\n      <td>9</td>\n      <td>0.900000</td>\n      <td>0.0</td>\n      <td>0.0</td>\n      <td>NaN</td>\n      <td>f70c1033-36ae-4b8b-8b89-099a96dccca5</td>\n      <td>participant_1</td>\n      <td>9</td>\n      <td>2023-05-23 23:20:25.000</td>\n      <td>2023-05-23 23:20:29.999</td>\n    </tr>\n    <tr>\n      <th>10</th>\n      <td>0.471300</td>\n      <td>0.265004</td>\n      <td>0.333288</td>\n      <td>8</td>\n      <td>0.800000</td>\n      <td>0.0</td>\n      <td>0.0</td>\n      <td>NaN</td>\n      <td>f70c1033-36ae-4b8b-8b89-099a96dccca5</td>\n      <td>participant_1</td>\n      <td>10</td>\n      <td>2023-05-23 23:20:30.000</td>\n      <td>2023-05-23 23:20:34.999</td>\n    </tr>\n    <tr>\n      <th>11</th>\n      <td>0.384917</td>\n      <td>0.140751</td>\n      <td>0.259010</td>\n      <td>9</td>\n      <td>0.750000</td>\n      <td>0.0</td>\n      <td>0.0</td>\n      <td>NaN</td>\n      <td>f70c1033-36ae-4b8b-8b89-099a96dccca5</td>\n      <td>participant_1</td>\n      <td>11</td>\n      <td>2023-05-23 23:20:35.000</td>\n      <td>2023-05-23 23:20:39.999</td>\n    </tr>\n    <tr>\n      <th>12</th>\n      <td>0.319333</td>\n      <td>0.083508</td>\n      <td>0.174393</td>\n      <td>2</td>\n      <td>0.666667</td>\n      <td>0.0</td>\n      <td>0.0</td>\n      <td>NaN</td>\n      <td>f70c1033-36ae-4b8b-8b89-099a96dccca5</td>\n      <td>participant_1</td>\n      <td>12</td>\n      <td>2023-05-23 23:20:40.000</td>\n      <td>2023-05-23 23:20:41.334</td>\n    </tr>\n  </tbody>\n</table>\n</div>"
     },
     "execution_count": 18,
     "metadata": {},
     "output_type": "execute_result"
    }
   ],
   "source": [
    "features_df"
   ],
   "metadata": {
    "collapsed": false,
    "ExecuteTime": {
     "end_time": "2023-05-31T11:28:23.020565800Z",
     "start_time": "2023-05-31T11:28:22.997960300Z"
    }
   }
  },
  {
   "cell_type": "code",
   "execution_count": null,
   "outputs": [],
   "source": [
    "features_df.to_json('../data/example1_output.json', orient='records', lines=True, indent=4)"
   ],
   "metadata": {
    "collapsed": false
   }
  }
 ],
 "metadata": {
  "kernelspec": {
   "display_name": "Python 3",
   "language": "python",
   "name": "python3"
  },
  "language_info": {
   "codemirror_mode": {
    "name": "ipython",
    "version": 2
   },
   "file_extension": ".py",
   "mimetype": "text/x-python",
   "name": "python",
   "nbconvert_exporter": "python",
   "pygments_lexer": "ipython2",
   "version": "2.7.6"
  }
 },
 "nbformat": 4,
 "nbformat_minor": 0
}
