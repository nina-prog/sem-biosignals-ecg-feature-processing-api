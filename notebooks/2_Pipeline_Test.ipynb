{
 "cells": [
  {
   "cell_type": "code",
   "execution_count": 1,
   "outputs": [],
   "source": [
    "# Imports\n",
    "import neurokit2 as nk\n",
    "import pandas as pd\n",
    "import numpy as np\n",
    "import matplotlib.pyplot as plt\n",
    "import seaborn as sns\n",
    "import json\n",
    "import os\n",
    "from tqdm import tqdm"
   ],
   "metadata": {
    "collapsed": false,
    "ExecuteTime": {
     "end_time": "2023-05-31T11:08:45.997492500Z",
     "start_time": "2023-05-31T11:08:45.155834700Z"
    }
   }
  },
  {
   "cell_type": "markdown",
   "source": [
    "# Import custom functions"
   ],
   "metadata": {
    "collapsed": false
   }
  },
  {
   "cell_type": "code",
   "execution_count": 2,
   "outputs": [],
   "source": [
    "from src import feature_extraction as fe"
   ],
   "metadata": {
    "collapsed": false,
    "ExecuteTime": {
     "end_time": "2023-05-31T11:09:46.444730200Z",
     "start_time": "2023-05-31T11:09:46.321547200Z"
    }
   }
  },
  {
   "cell_type": "code",
   "execution_count": null,
   "outputs": [],
   "source": [
    "def json_to_pandas(json_data, meta=None):\n",
    "    \"\"\"\n",
    "    Convert JSON data to a Pandas DataFrame.\n",
    "\n",
    "    This function takes a JSON data object and performs transformations to convert it into a structured Pandas DataFrame. The input JSON data should have a nested structure containing a list of samples, along with additional metadata such as supervisor, record_date and configs.frequency. More metadata can be added by extending the meta parameter.\n",
    "\n",
    "    :json_data: JSON data object to convert to Pandas DataFrame.\n",
    "    :type json_data: dict\n",
    "    :meta: Additional metadata to include in the DataFrame, defaults to None. The meta parameter should be a list of strings, where each string is a path to a nested key in the JSON data object.\n",
    "    :type meta: list, optional\n",
    "\n",
    "    :return: Pandas DataFrame containing the JSON data.\n",
    "    :rtype: pandas.DataFrame\n",
    "    \"\"\"\n",
    "    df = pd.json_normalize(json_data, record_path=['samples'], meta=['supervisor', 'record_date', ['configs', 'frequency']] + meta)\n",
    "    df_exploded = df.explode(['timestamp_idx', 'ecg', 'label'])\n",
    "\n",
    "    return df_exploded"
   ],
   "metadata": {
    "collapsed": false
   }
  },
  {
   "cell_type": "markdown",
   "source": [
    "# Load data\n",
    "Using the example 1 (see notebook '1_Data_Formatting_and_transformation' how it was built), this consists of only one ecg sample with a size of 60 000, thus a time frame of 60 seconds."
   ],
   "metadata": {
    "collapsed": false
   }
  },
  {
   "cell_type": "code",
   "execution_count": 4,
   "outputs": [],
   "source": [
    "ecg_batch = json.load(open('../data/example1_input.json', 'r'))"
   ],
   "metadata": {
    "collapsed": false,
    "ExecuteTime": {
     "end_time": "2023-05-31T11:14:50.589634600Z",
     "start_time": "2023-05-31T11:14:50.551321600Z"
    }
   }
  },
  {
   "cell_type": "markdown",
   "source": [
    "# Test code of main file | Request 'process_ecg_features'"
   ],
   "metadata": {
    "collapsed": false
   }
  },
  {
   "cell_type": "code",
   "execution_count": 18,
   "outputs": [],
   "source": [
    "# get configs\n",
    "configs = ecg_batch['configs']\n",
    "# get single sample\n",
    "samples = ecg_batch['samples']\n",
    "# get window size\n",
    "window_size = configs['window_size']\n",
    "# get window slicing method\n",
    "window_slicing_method = configs['window_slicing_method']"
   ],
   "metadata": {
    "collapsed": false,
    "ExecuteTime": {
     "end_time": "2023-05-31T11:45:01.840158600Z",
     "start_time": "2023-05-31T11:45:01.824644900Z"
    }
   }
  },
  {
   "cell_type": "code",
   "execution_count": 25,
   "outputs": [
    {
     "name": "stderr",
     "output_type": "stream",
     "text": [
      "  0%|          | 0/1 [00:00<?, ?it/s]"
     ]
    },
    {
     "name": "stdout",
     "output_type": "stream",
     "text": [
      "Successfully converted dict to pandas and got single sample...\n"
     ]
    },
    {
     "data": {
      "text/plain": "                                  sample_id     subject_id  \\\n0      f70c1033-36ae-4b8b-8b89-099a96dccca5  participant_1   \n1      f70c1033-36ae-4b8b-8b89-099a96dccca5  participant_1   \n2      f70c1033-36ae-4b8b-8b89-099a96dccca5  participant_1   \n3      f70c1033-36ae-4b8b-8b89-099a96dccca5  participant_1   \n4      f70c1033-36ae-4b8b-8b89-099a96dccca5  participant_1   \n...                                     ...            ...   \n59995  f70c1033-36ae-4b8b-8b89-099a96dccca5  participant_1   \n59996  f70c1033-36ae-4b8b-8b89-099a96dccca5  participant_1   \n59997  f70c1033-36ae-4b8b-8b89-099a96dccca5  participant_1   \n59998  f70c1033-36ae-4b8b-8b89-099a96dccca5  participant_1   \n59999  f70c1033-36ae-4b8b-8b89-099a96dccca5  participant_1   \n\n                 timestamp_idx     ecg      label  \n0      2023-05-23 23:19:41.335  1500.0  undefined  \n1      2023-05-23 23:19:41.336  4405.0  undefined  \n2      2023-05-23 23:19:41.337  3072.0  undefined  \n3      2023-05-23 23:19:41.338  1405.0  undefined  \n4      2023-05-23 23:19:41.339   838.0  undefined  \n...                        ...     ...        ...  \n59995  2023-05-23 23:20:41.330  2771.0  undefined  \n59996  2023-05-23 23:20:41.331  2040.0  undefined  \n59997  2023-05-23 23:20:41.332  1960.0  undefined  \n59998  2023-05-23 23:20:41.333  1861.0  undefined  \n59999  2023-05-23 23:20:41.334  1180.0  undefined  \n\n[60000 rows x 5 columns]",
      "text/html": "<div>\n<style scoped>\n    .dataframe tbody tr th:only-of-type {\n        vertical-align: middle;\n    }\n\n    .dataframe tbody tr th {\n        vertical-align: top;\n    }\n\n    .dataframe thead th {\n        text-align: right;\n    }\n</style>\n<table border=\"1\" class=\"dataframe\">\n  <thead>\n    <tr style=\"text-align: right;\">\n      <th></th>\n      <th>sample_id</th>\n      <th>subject_id</th>\n      <th>timestamp_idx</th>\n      <th>ecg</th>\n      <th>label</th>\n    </tr>\n  </thead>\n  <tbody>\n    <tr>\n      <th>0</th>\n      <td>f70c1033-36ae-4b8b-8b89-099a96dccca5</td>\n      <td>participant_1</td>\n      <td>2023-05-23 23:19:41.335</td>\n      <td>1500.0</td>\n      <td>undefined</td>\n    </tr>\n    <tr>\n      <th>1</th>\n      <td>f70c1033-36ae-4b8b-8b89-099a96dccca5</td>\n      <td>participant_1</td>\n      <td>2023-05-23 23:19:41.336</td>\n      <td>4405.0</td>\n      <td>undefined</td>\n    </tr>\n    <tr>\n      <th>2</th>\n      <td>f70c1033-36ae-4b8b-8b89-099a96dccca5</td>\n      <td>participant_1</td>\n      <td>2023-05-23 23:19:41.337</td>\n      <td>3072.0</td>\n      <td>undefined</td>\n    </tr>\n    <tr>\n      <th>3</th>\n      <td>f70c1033-36ae-4b8b-8b89-099a96dccca5</td>\n      <td>participant_1</td>\n      <td>2023-05-23 23:19:41.338</td>\n      <td>1405.0</td>\n      <td>undefined</td>\n    </tr>\n    <tr>\n      <th>4</th>\n      <td>f70c1033-36ae-4b8b-8b89-099a96dccca5</td>\n      <td>participant_1</td>\n      <td>2023-05-23 23:19:41.339</td>\n      <td>838.0</td>\n      <td>undefined</td>\n    </tr>\n    <tr>\n      <th>...</th>\n      <td>...</td>\n      <td>...</td>\n      <td>...</td>\n      <td>...</td>\n      <td>...</td>\n    </tr>\n    <tr>\n      <th>59995</th>\n      <td>f70c1033-36ae-4b8b-8b89-099a96dccca5</td>\n      <td>participant_1</td>\n      <td>2023-05-23 23:20:41.330</td>\n      <td>2771.0</td>\n      <td>undefined</td>\n    </tr>\n    <tr>\n      <th>59996</th>\n      <td>f70c1033-36ae-4b8b-8b89-099a96dccca5</td>\n      <td>participant_1</td>\n      <td>2023-05-23 23:20:41.331</td>\n      <td>2040.0</td>\n      <td>undefined</td>\n    </tr>\n    <tr>\n      <th>59997</th>\n      <td>f70c1033-36ae-4b8b-8b89-099a96dccca5</td>\n      <td>participant_1</td>\n      <td>2023-05-23 23:20:41.332</td>\n      <td>1960.0</td>\n      <td>undefined</td>\n    </tr>\n    <tr>\n      <th>59998</th>\n      <td>f70c1033-36ae-4b8b-8b89-099a96dccca5</td>\n      <td>participant_1</td>\n      <td>2023-05-23 23:20:41.333</td>\n      <td>1861.0</td>\n      <td>undefined</td>\n    </tr>\n    <tr>\n      <th>59999</th>\n      <td>f70c1033-36ae-4b8b-8b89-099a96dccca5</td>\n      <td>participant_1</td>\n      <td>2023-05-23 23:20:41.334</td>\n      <td>1180.0</td>\n      <td>undefined</td>\n    </tr>\n  </tbody>\n</table>\n<p>60000 rows × 5 columns</p>\n</div>"
     },
     "metadata": {},
     "output_type": "display_data"
    },
    {
     "name": "stderr",
     "output_type": "stream",
     "text": [
      "C:\\Users\\merti\\anaconda3\\envs\\py310\\lib\\site-packages\\scipy\\signal\\_spectral_py.py:2014: UserWarning: nperseg = 256 is greater than input length  = 5, using nperseg = 5\n",
      "  warnings.warn('nperseg = {0:d} is greater than input length '\n",
      "C:\\Users\\merti\\PycharmProjects\\sem-biosignals-ecg-feature-processing-api\\src\\feature_extraction.py:58: RuntimeWarning: invalid value encountered in scalar divide\n",
      "  lf_hf_ratio = lf_band / hf_band\n",
      "C:\\Users\\merti\\anaconda3\\envs\\py310\\lib\\site-packages\\scipy\\signal\\_spectral_py.py:2014: UserWarning: nperseg = 256 is greater than input length  = 12, using nperseg = 12\n",
      "  warnings.warn('nperseg = {0:d} is greater than input length '\n",
      "C:\\Users\\merti\\PycharmProjects\\sem-biosignals-ecg-feature-processing-api\\src\\feature_extraction.py:58: RuntimeWarning: invalid value encountered in scalar divide\n",
      "  lf_hf_ratio = lf_band / hf_band\n",
      "C:\\Users\\merti\\anaconda3\\envs\\py310\\lib\\site-packages\\scipy\\signal\\_spectral_py.py:2014: UserWarning: nperseg = 256 is greater than input length  = 11, using nperseg = 11\n",
      "  warnings.warn('nperseg = {0:d} is greater than input length '\n",
      "C:\\Users\\merti\\PycharmProjects\\sem-biosignals-ecg-feature-processing-api\\src\\feature_extraction.py:58: RuntimeWarning: invalid value encountered in scalar divide\n",
      "  lf_hf_ratio = lf_band / hf_band\n",
      "C:\\Users\\merti\\anaconda3\\envs\\py310\\lib\\site-packages\\scipy\\signal\\_spectral_py.py:2014: UserWarning: nperseg = 256 is greater than input length  = 10, using nperseg = 10\n",
      "  warnings.warn('nperseg = {0:d} is greater than input length '\n",
      "C:\\Users\\merti\\PycharmProjects\\sem-biosignals-ecg-feature-processing-api\\src\\feature_extraction.py:58: RuntimeWarning: invalid value encountered in scalar divide\n",
      "  lf_hf_ratio = lf_band / hf_band\n",
      "C:\\Users\\merti\\anaconda3\\envs\\py310\\lib\\site-packages\\scipy\\signal\\_spectral_py.py:2014: UserWarning: nperseg = 256 is greater than input length  = 12, using nperseg = 12\n",
      "  warnings.warn('nperseg = {0:d} is greater than input length '\n",
      "C:\\Users\\merti\\PycharmProjects\\sem-biosignals-ecg-feature-processing-api\\src\\feature_extraction.py:58: RuntimeWarning: invalid value encountered in scalar divide\n",
      "  lf_hf_ratio = lf_band / hf_band\n",
      "C:\\Users\\merti\\anaconda3\\envs\\py310\\lib\\site-packages\\scipy\\signal\\_spectral_py.py:2014: UserWarning: nperseg = 256 is greater than input length  = 11, using nperseg = 11\n",
      "  warnings.warn('nperseg = {0:d} is greater than input length '\n",
      "C:\\Users\\merti\\PycharmProjects\\sem-biosignals-ecg-feature-processing-api\\src\\feature_extraction.py:58: RuntimeWarning: invalid value encountered in scalar divide\n",
      "  lf_hf_ratio = lf_band / hf_band\n",
      "C:\\Users\\merti\\anaconda3\\envs\\py310\\lib\\site-packages\\scipy\\signal\\_spectral_py.py:2014: UserWarning: nperseg = 256 is greater than input length  = 16, using nperseg = 16\n",
      "  warnings.warn('nperseg = {0:d} is greater than input length '\n",
      "C:\\Users\\merti\\PycharmProjects\\sem-biosignals-ecg-feature-processing-api\\src\\feature_extraction.py:58: RuntimeWarning: invalid value encountered in scalar divide\n",
      "  lf_hf_ratio = lf_band / hf_band\n",
      "C:\\Users\\merti\\anaconda3\\envs\\py310\\lib\\site-packages\\scipy\\signal\\_spectral_py.py:2014: UserWarning: nperseg = 256 is greater than input length  = 11, using nperseg = 11\n",
      "  warnings.warn('nperseg = {0:d} is greater than input length '\n",
      "C:\\Users\\merti\\PycharmProjects\\sem-biosignals-ecg-feature-processing-api\\src\\feature_extraction.py:58: RuntimeWarning: invalid value encountered in scalar divide\n",
      "  lf_hf_ratio = lf_band / hf_band\n",
      "C:\\Users\\merti\\anaconda3\\envs\\py310\\lib\\site-packages\\scipy\\signal\\_spectral_py.py:2014: UserWarning: nperseg = 256 is greater than input length  = 13, using nperseg = 13\n",
      "  warnings.warn('nperseg = {0:d} is greater than input length '\n",
      "C:\\Users\\merti\\PycharmProjects\\sem-biosignals-ecg-feature-processing-api\\src\\feature_extraction.py:58: RuntimeWarning: invalid value encountered in scalar divide\n",
      "  lf_hf_ratio = lf_band / hf_band\n",
      "C:\\Users\\merti\\anaconda3\\envs\\py310\\lib\\site-packages\\scipy\\signal\\_spectral_py.py:2014: UserWarning: nperseg = 256 is greater than input length  = 10, using nperseg = 10\n",
      "  warnings.warn('nperseg = {0:d} is greater than input length '\n",
      "C:\\Users\\merti\\PycharmProjects\\sem-biosignals-ecg-feature-processing-api\\src\\feature_extraction.py:58: RuntimeWarning: invalid value encountered in scalar divide\n",
      "  lf_hf_ratio = lf_band / hf_band\n",
      "C:\\Users\\merti\\anaconda3\\envs\\py310\\lib\\site-packages\\scipy\\signal\\_spectral_py.py:2014: UserWarning: nperseg = 256 is greater than input length  = 10, using nperseg = 10\n",
      "  warnings.warn('nperseg = {0:d} is greater than input length '\n",
      "C:\\Users\\merti\\PycharmProjects\\sem-biosignals-ecg-feature-processing-api\\src\\feature_extraction.py:58: RuntimeWarning: invalid value encountered in scalar divide\n",
      "  lf_hf_ratio = lf_band / hf_band\n",
      "C:\\Users\\merti\\anaconda3\\envs\\py310\\lib\\site-packages\\scipy\\signal\\_spectral_py.py:2014: UserWarning: nperseg = 256 is greater than input length  = 12, using nperseg = 12\n",
      "  warnings.warn('nperseg = {0:d} is greater than input length '\n",
      "C:\\Users\\merti\\PycharmProjects\\sem-biosignals-ecg-feature-processing-api\\src\\feature_extraction.py:58: RuntimeWarning: invalid value encountered in scalar divide\n",
      "  lf_hf_ratio = lf_band / hf_band\n",
      "C:\\Users\\merti\\anaconda3\\envs\\py310\\lib\\site-packages\\scipy\\signal\\_spectral_py.py:2014: UserWarning: nperseg = 256 is greater than input length  = 3, using nperseg = 3\n",
      "  warnings.warn('nperseg = {0:d} is greater than input length '\n",
      "C:\\Users\\merti\\PycharmProjects\\sem-biosignals-ecg-feature-processing-api\\src\\feature_extraction.py:58: RuntimeWarning: invalid value encountered in scalar divide\n",
      "  lf_hf_ratio = lf_band / hf_band\n",
      "100%|██████████| 1/1 [00:00<00:00, 10.61it/s]"
     ]
    },
    {
     "name": "stdout",
     "output_type": "stream",
     "text": [
      "Number of windows: 13\n"
     ]
    },
    {
     "name": "stderr",
     "output_type": "stream",
     "text": [
      "\n"
     ]
    }
   ],
   "source": [
    "features_df = pd.DataFrame()\n",
    "# iterate over samples of ecg batch\n",
    "for sample in tqdm(samples):\n",
    "    # convert to pandas\n",
    "    sample_df = pd.DataFrame.from_dict(sample)\n",
    "    print('Successfully converted dict to pandas and got single sample...')\n",
    "    display(sample_df)\n",
    "    # preprocess ecg\n",
    "    sample_df['ecg'] = nk.ecg_clean(sample_df['ecg'], sampling_rate=configs['frequency'], method=\"pantompkins1985\")\n",
    "    # slice in windows (window_size and window_slicing_method)\n",
    "    windows = fe.create_windows(sample_df, 'timestamp_idx', window_size, window_slicing_method)\n",
    "    print(f'Number of windows: {len(list(windows))}')\n",
    "    # compute ecg features vor each window https://www.ncbi.nlm.nih.gov/pmc/articles/PMC8203359/\n",
    "    for i, window in enumerate(windows):\n",
    "        # compute features\n",
    "        features = fe.hrv_features(window['ecg'].values, configs['frequency'])\n",
    "        # Create a DataFrame for the features\n",
    "        tmp = pd.DataFrame(features, index=[0])\n",
    "        # Add additional columns\n",
    "        tmp['subject_id'] = sample['subject_id']\n",
    "        tmp['sample_id'] = sample['sample_id']\n",
    "        tmp['window_id'] = i\n",
    "        tmp['w_start_time'] = window['timestamp_idx'].min()\n",
    "        tmp['W_end_time'] = window['timestamp_idx'].max()\n",
    "        # add new window features to df of all\n",
    "        features_df = pd.concat([features_df, tmp], axis=0)\n",
    "\n",
    "features_df.reset_index(drop=True, inplace=True)"
   ],
   "metadata": {
    "collapsed": false,
    "ExecuteTime": {
     "end_time": "2023-05-31T11:54:44.372213200Z",
     "start_time": "2023-05-31T11:54:44.262336400Z"
    }
   }
  },
  {
   "cell_type": "code",
   "execution_count": 26,
   "outputs": [
    {
     "data": {
      "text/plain": "     mean_rr      sdnn     rmssd  nn50     pnn50  lf_band  hf_band  \\\n0   0.642600  0.186896  0.336774     3  0.600000      0.0      0.0   \n1   0.348250  0.153873  0.270766     7  0.583333      0.0      0.0   \n2   0.392545  0.117491  0.169679     8  0.727273      0.0      0.0   \n3   0.449400  0.163658  0.184729     8  0.800000      0.0      0.0   \n4   0.367750  0.165213  0.271478    11  0.916667      0.0      0.0   \n5   0.401909  0.134468  0.219575     8  0.727273      0.0      0.0   \n6   0.294875  0.131194  0.200083    12  0.750000      0.0      0.0   \n7   0.398182  0.183843  0.247847     9  0.818182      0.0      0.0   \n8   0.372462  0.149817  0.188498     8  0.615385      0.0      0.0   \n9   0.439300  0.139270  0.188644     9  0.900000      0.0      0.0   \n10  0.471300  0.265004  0.333288     8  0.800000      0.0      0.0   \n11  0.384917  0.140751  0.259010     9  0.750000      0.0      0.0   \n12  0.319333  0.083508  0.174393     2  0.666667      0.0      0.0   \n\n    lf_hf_ratio     subject_id                             sample_id  \\\n0           NaN  participant_1  f70c1033-36ae-4b8b-8b89-099a96dccca5   \n1           NaN  participant_1  f70c1033-36ae-4b8b-8b89-099a96dccca5   \n2           NaN  participant_1  f70c1033-36ae-4b8b-8b89-099a96dccca5   \n3           NaN  participant_1  f70c1033-36ae-4b8b-8b89-099a96dccca5   \n4           NaN  participant_1  f70c1033-36ae-4b8b-8b89-099a96dccca5   \n5           NaN  participant_1  f70c1033-36ae-4b8b-8b89-099a96dccca5   \n6           NaN  participant_1  f70c1033-36ae-4b8b-8b89-099a96dccca5   \n7           NaN  participant_1  f70c1033-36ae-4b8b-8b89-099a96dccca5   \n8           NaN  participant_1  f70c1033-36ae-4b8b-8b89-099a96dccca5   \n9           NaN  participant_1  f70c1033-36ae-4b8b-8b89-099a96dccca5   \n10          NaN  participant_1  f70c1033-36ae-4b8b-8b89-099a96dccca5   \n11          NaN  participant_1  f70c1033-36ae-4b8b-8b89-099a96dccca5   \n12          NaN  participant_1  f70c1033-36ae-4b8b-8b89-099a96dccca5   \n\n    window_id            w_start_time              W_end_time  \n0           0 2023-05-23 23:19:41.335 2023-05-23 23:19:44.999  \n1           1 2023-05-23 23:19:45.000 2023-05-23 23:19:49.999  \n2           2 2023-05-23 23:19:50.000 2023-05-23 23:19:54.999  \n3           3 2023-05-23 23:19:55.000 2023-05-23 23:19:59.999  \n4           4 2023-05-23 23:20:00.000 2023-05-23 23:20:04.999  \n5           5 2023-05-23 23:20:05.000 2023-05-23 23:20:09.999  \n6           6 2023-05-23 23:20:10.000 2023-05-23 23:20:14.999  \n7           7 2023-05-23 23:20:15.000 2023-05-23 23:20:19.999  \n8           8 2023-05-23 23:20:20.000 2023-05-23 23:20:24.999  \n9           9 2023-05-23 23:20:25.000 2023-05-23 23:20:29.999  \n10         10 2023-05-23 23:20:30.000 2023-05-23 23:20:34.999  \n11         11 2023-05-23 23:20:35.000 2023-05-23 23:20:39.999  \n12         12 2023-05-23 23:20:40.000 2023-05-23 23:20:41.334  ",
      "text/html": "<div>\n<style scoped>\n    .dataframe tbody tr th:only-of-type {\n        vertical-align: middle;\n    }\n\n    .dataframe tbody tr th {\n        vertical-align: top;\n    }\n\n    .dataframe thead th {\n        text-align: right;\n    }\n</style>\n<table border=\"1\" class=\"dataframe\">\n  <thead>\n    <tr style=\"text-align: right;\">\n      <th></th>\n      <th>mean_rr</th>\n      <th>sdnn</th>\n      <th>rmssd</th>\n      <th>nn50</th>\n      <th>pnn50</th>\n      <th>lf_band</th>\n      <th>hf_band</th>\n      <th>lf_hf_ratio</th>\n      <th>subject_id</th>\n      <th>sample_id</th>\n      <th>window_id</th>\n      <th>w_start_time</th>\n      <th>W_end_time</th>\n    </tr>\n  </thead>\n  <tbody>\n    <tr>\n      <th>0</th>\n      <td>0.642600</td>\n      <td>0.186896</td>\n      <td>0.336774</td>\n      <td>3</td>\n      <td>0.600000</td>\n      <td>0.0</td>\n      <td>0.0</td>\n      <td>NaN</td>\n      <td>participant_1</td>\n      <td>f70c1033-36ae-4b8b-8b89-099a96dccca5</td>\n      <td>0</td>\n      <td>2023-05-23 23:19:41.335</td>\n      <td>2023-05-23 23:19:44.999</td>\n    </tr>\n    <tr>\n      <th>1</th>\n      <td>0.348250</td>\n      <td>0.153873</td>\n      <td>0.270766</td>\n      <td>7</td>\n      <td>0.583333</td>\n      <td>0.0</td>\n      <td>0.0</td>\n      <td>NaN</td>\n      <td>participant_1</td>\n      <td>f70c1033-36ae-4b8b-8b89-099a96dccca5</td>\n      <td>1</td>\n      <td>2023-05-23 23:19:45.000</td>\n      <td>2023-05-23 23:19:49.999</td>\n    </tr>\n    <tr>\n      <th>2</th>\n      <td>0.392545</td>\n      <td>0.117491</td>\n      <td>0.169679</td>\n      <td>8</td>\n      <td>0.727273</td>\n      <td>0.0</td>\n      <td>0.0</td>\n      <td>NaN</td>\n      <td>participant_1</td>\n      <td>f70c1033-36ae-4b8b-8b89-099a96dccca5</td>\n      <td>2</td>\n      <td>2023-05-23 23:19:50.000</td>\n      <td>2023-05-23 23:19:54.999</td>\n    </tr>\n    <tr>\n      <th>3</th>\n      <td>0.449400</td>\n      <td>0.163658</td>\n      <td>0.184729</td>\n      <td>8</td>\n      <td>0.800000</td>\n      <td>0.0</td>\n      <td>0.0</td>\n      <td>NaN</td>\n      <td>participant_1</td>\n      <td>f70c1033-36ae-4b8b-8b89-099a96dccca5</td>\n      <td>3</td>\n      <td>2023-05-23 23:19:55.000</td>\n      <td>2023-05-23 23:19:59.999</td>\n    </tr>\n    <tr>\n      <th>4</th>\n      <td>0.367750</td>\n      <td>0.165213</td>\n      <td>0.271478</td>\n      <td>11</td>\n      <td>0.916667</td>\n      <td>0.0</td>\n      <td>0.0</td>\n      <td>NaN</td>\n      <td>participant_1</td>\n      <td>f70c1033-36ae-4b8b-8b89-099a96dccca5</td>\n      <td>4</td>\n      <td>2023-05-23 23:20:00.000</td>\n      <td>2023-05-23 23:20:04.999</td>\n    </tr>\n    <tr>\n      <th>5</th>\n      <td>0.401909</td>\n      <td>0.134468</td>\n      <td>0.219575</td>\n      <td>8</td>\n      <td>0.727273</td>\n      <td>0.0</td>\n      <td>0.0</td>\n      <td>NaN</td>\n      <td>participant_1</td>\n      <td>f70c1033-36ae-4b8b-8b89-099a96dccca5</td>\n      <td>5</td>\n      <td>2023-05-23 23:20:05.000</td>\n      <td>2023-05-23 23:20:09.999</td>\n    </tr>\n    <tr>\n      <th>6</th>\n      <td>0.294875</td>\n      <td>0.131194</td>\n      <td>0.200083</td>\n      <td>12</td>\n      <td>0.750000</td>\n      <td>0.0</td>\n      <td>0.0</td>\n      <td>NaN</td>\n      <td>participant_1</td>\n      <td>f70c1033-36ae-4b8b-8b89-099a96dccca5</td>\n      <td>6</td>\n      <td>2023-05-23 23:20:10.000</td>\n      <td>2023-05-23 23:20:14.999</td>\n    </tr>\n    <tr>\n      <th>7</th>\n      <td>0.398182</td>\n      <td>0.183843</td>\n      <td>0.247847</td>\n      <td>9</td>\n      <td>0.818182</td>\n      <td>0.0</td>\n      <td>0.0</td>\n      <td>NaN</td>\n      <td>participant_1</td>\n      <td>f70c1033-36ae-4b8b-8b89-099a96dccca5</td>\n      <td>7</td>\n      <td>2023-05-23 23:20:15.000</td>\n      <td>2023-05-23 23:20:19.999</td>\n    </tr>\n    <tr>\n      <th>8</th>\n      <td>0.372462</td>\n      <td>0.149817</td>\n      <td>0.188498</td>\n      <td>8</td>\n      <td>0.615385</td>\n      <td>0.0</td>\n      <td>0.0</td>\n      <td>NaN</td>\n      <td>participant_1</td>\n      <td>f70c1033-36ae-4b8b-8b89-099a96dccca5</td>\n      <td>8</td>\n      <td>2023-05-23 23:20:20.000</td>\n      <td>2023-05-23 23:20:24.999</td>\n    </tr>\n    <tr>\n      <th>9</th>\n      <td>0.439300</td>\n      <td>0.139270</td>\n      <td>0.188644</td>\n      <td>9</td>\n      <td>0.900000</td>\n      <td>0.0</td>\n      <td>0.0</td>\n      <td>NaN</td>\n      <td>participant_1</td>\n      <td>f70c1033-36ae-4b8b-8b89-099a96dccca5</td>\n      <td>9</td>\n      <td>2023-05-23 23:20:25.000</td>\n      <td>2023-05-23 23:20:29.999</td>\n    </tr>\n    <tr>\n      <th>10</th>\n      <td>0.471300</td>\n      <td>0.265004</td>\n      <td>0.333288</td>\n      <td>8</td>\n      <td>0.800000</td>\n      <td>0.0</td>\n      <td>0.0</td>\n      <td>NaN</td>\n      <td>participant_1</td>\n      <td>f70c1033-36ae-4b8b-8b89-099a96dccca5</td>\n      <td>10</td>\n      <td>2023-05-23 23:20:30.000</td>\n      <td>2023-05-23 23:20:34.999</td>\n    </tr>\n    <tr>\n      <th>11</th>\n      <td>0.384917</td>\n      <td>0.140751</td>\n      <td>0.259010</td>\n      <td>9</td>\n      <td>0.750000</td>\n      <td>0.0</td>\n      <td>0.0</td>\n      <td>NaN</td>\n      <td>participant_1</td>\n      <td>f70c1033-36ae-4b8b-8b89-099a96dccca5</td>\n      <td>11</td>\n      <td>2023-05-23 23:20:35.000</td>\n      <td>2023-05-23 23:20:39.999</td>\n    </tr>\n    <tr>\n      <th>12</th>\n      <td>0.319333</td>\n      <td>0.083508</td>\n      <td>0.174393</td>\n      <td>2</td>\n      <td>0.666667</td>\n      <td>0.0</td>\n      <td>0.0</td>\n      <td>NaN</td>\n      <td>participant_1</td>\n      <td>f70c1033-36ae-4b8b-8b89-099a96dccca5</td>\n      <td>12</td>\n      <td>2023-05-23 23:20:40.000</td>\n      <td>2023-05-23 23:20:41.334</td>\n    </tr>\n  </tbody>\n</table>\n</div>"
     },
     "execution_count": 26,
     "metadata": {},
     "output_type": "execute_result"
    }
   ],
   "source": [
    "features_df"
   ],
   "metadata": {
    "collapsed": false,
    "ExecuteTime": {
     "end_time": "2023-05-31T11:54:48.268109500Z",
     "start_time": "2023-05-31T11:54:48.254145200Z"
    }
   }
  }
 ],
 "metadata": {
  "kernelspec": {
   "display_name": "Python 3",
   "language": "python",
   "name": "python3"
  },
  "language_info": {
   "codemirror_mode": {
    "name": "ipython",
    "version": 2
   },
   "file_extension": ".py",
   "mimetype": "text/x-python",
   "name": "python",
   "nbconvert_exporter": "python",
   "pygments_lexer": "ipython2",
   "version": "2.7.6"
  }
 },
 "nbformat": 4,
 "nbformat_minor": 0
}
