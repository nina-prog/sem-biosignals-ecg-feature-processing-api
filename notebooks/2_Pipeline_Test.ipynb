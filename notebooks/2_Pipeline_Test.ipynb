{
 "cells": [
  {
   "cell_type": "code",
   "execution_count": 1,
   "outputs": [],
   "source": [
    "# Imports\n",
    "import neurokit2 as nk\n",
    "import pandas as pd\n",
    "import numpy as np\n",
    "import matplotlib.pyplot as plt\n",
    "import seaborn as sns\n",
    "import json\n",
    "import os\n",
    "from tqdm import tqdm"
   ],
   "metadata": {
    "collapsed": false,
    "ExecuteTime": {
     "end_time": "2023-05-31T11:08:45.997492500Z",
     "start_time": "2023-05-31T11:08:45.155834700Z"
    }
   }
  },
  {
   "cell_type": "markdown",
   "source": [
    "# Import custom functions"
   ],
   "metadata": {
    "collapsed": false
   }
  },
  {
   "cell_type": "code",
   "execution_count": 2,
   "outputs": [],
   "source": [
    "from src import feature_extraction as fe"
   ],
   "metadata": {
    "collapsed": false,
    "ExecuteTime": {
     "end_time": "2023-05-31T11:09:46.444730200Z",
     "start_time": "2023-05-31T11:09:46.321547200Z"
    }
   }
  },
  {
   "cell_type": "code",
   "execution_count": null,
   "outputs": [],
   "source": [
    "def json_to_pandas(json_data, meta=None):\n",
    "    \"\"\"\n",
    "    Convert JSON data to a Pandas DataFrame.\n",
    "\n",
    "    This function takes a JSON data object and performs transformations to convert it into a structured Pandas DataFrame. The input JSON data should have a nested structure containing a list of samples, along with additional metadata such as supervisor, record_date and configs.frequency. More metadata can be added by extending the meta parameter.\n",
    "\n",
    "    :json_data: JSON data object to convert to Pandas DataFrame.\n",
    "    :type json_data: dict\n",
    "    :meta: Additional metadata to include in the DataFrame, defaults to None. The meta parameter should be a list of strings, where each string is a path to a nested key in the JSON data object.\n",
    "    :type meta: list, optional\n",
    "\n",
    "    :return: Pandas DataFrame containing the JSON data.\n",
    "    :rtype: pandas.DataFrame\n",
    "    \"\"\"\n",
    "    df = pd.json_normalize(json_data, record_path=['samples'], meta=['supervisor', 'record_date', ['configs', 'frequency']] + meta)\n",
    "    df_exploded = df.explode(['timestamp_idx', 'ecg', 'label'])\n",
    "\n",
    "    return df_exploded"
   ],
   "metadata": {
    "collapsed": false
   }
  },
  {
   "cell_type": "markdown",
   "source": [
    "# Load data\n",
    "Using the example 1 (see notebook '1_Data_Formatting_and_transformation' how it was built), this consists of only one ecg sample with a size of 60 000, thus a time frame of 60 seconds."
   ],
   "metadata": {
    "collapsed": false
   }
  },
  {
   "cell_type": "code",
   "execution_count": 4,
   "outputs": [],
   "source": [
    "ecg_batch = json.load(open('../data/example1_input.json', 'r'))"
   ],
   "metadata": {
    "collapsed": false,
    "ExecuteTime": {
     "end_time": "2023-05-31T11:14:50.589634600Z",
     "start_time": "2023-05-31T11:14:50.551321600Z"
    }
   }
  },
  {
   "cell_type": "markdown",
   "source": [
    "# Test code of main file | Request 'process_ecg_features'"
   ],
   "metadata": {
    "collapsed": false
   }
  },
  {
   "cell_type": "code",
   "execution_count": 7,
   "outputs": [],
   "source": [
    "# get configs\n",
    "configs = ecg_batch['configs']\n",
    "# get single sample\n",
    "samples = ecg_batch['samples']\n",
    "# get window size\n",
    "window_size = configs['window_size']\n",
    "# get window slicing method\n",
    "window_slicing_method = configs['window_slicing_method']"
   ],
   "metadata": {
    "collapsed": false,
    "ExecuteTime": {
     "end_time": "2023-05-31T11:16:01.347253100Z",
     "start_time": "2023-05-31T11:16:01.332449400Z"
    }
   }
  },
  {
   "cell_type": "code",
   "execution_count": 12,
   "outputs": [
    {
     "name": "stderr",
     "output_type": "stream",
     "text": [
      "  0%|          | 0/1 [00:00<?, ?it/s]"
     ]
    },
    {
     "data": {
      "text/plain": "                               sample_id     subject_id  \\\n0   f70c1033-36ae-4b8b-8b89-099a96dccca5  participant_1   \n0   f70c1033-36ae-4b8b-8b89-099a96dccca5  participant_1   \n0   f70c1033-36ae-4b8b-8b89-099a96dccca5  participant_1   \n0   f70c1033-36ae-4b8b-8b89-099a96dccca5  participant_1   \n0   f70c1033-36ae-4b8b-8b89-099a96dccca5  participant_1   \n..                                   ...            ...   \n0   f70c1033-36ae-4b8b-8b89-099a96dccca5  participant_1   \n0   f70c1033-36ae-4b8b-8b89-099a96dccca5  participant_1   \n0   f70c1033-36ae-4b8b-8b89-099a96dccca5  participant_1   \n0   f70c1033-36ae-4b8b-8b89-099a96dccca5  participant_1   \n0   f70c1033-36ae-4b8b-8b89-099a96dccca5  participant_1   \n\n              timestamp_idx     ecg      label  \n0   2023-05-23 23:19:41.335  1500.0  undefined  \n0   2023-05-23 23:19:41.336  4405.0  undefined  \n0   2023-05-23 23:19:41.337  3072.0  undefined  \n0   2023-05-23 23:19:41.338  1405.0  undefined  \n0   2023-05-23 23:19:41.339   838.0  undefined  \n..                      ...     ...        ...  \n0   2023-05-23 23:20:41.330  2771.0  undefined  \n0   2023-05-23 23:20:41.331  2040.0  undefined  \n0   2023-05-23 23:20:41.332  1960.0  undefined  \n0   2023-05-23 23:20:41.333  1861.0  undefined  \n0   2023-05-23 23:20:41.334  1180.0  undefined  \n\n[60000 rows x 5 columns]",
      "text/html": "<div>\n<style scoped>\n    .dataframe tbody tr th:only-of-type {\n        vertical-align: middle;\n    }\n\n    .dataframe tbody tr th {\n        vertical-align: top;\n    }\n\n    .dataframe thead th {\n        text-align: right;\n    }\n</style>\n<table border=\"1\" class=\"dataframe\">\n  <thead>\n    <tr style=\"text-align: right;\">\n      <th></th>\n      <th>sample_id</th>\n      <th>subject_id</th>\n      <th>timestamp_idx</th>\n      <th>ecg</th>\n      <th>label</th>\n    </tr>\n  </thead>\n  <tbody>\n    <tr>\n      <th>0</th>\n      <td>f70c1033-36ae-4b8b-8b89-099a96dccca5</td>\n      <td>participant_1</td>\n      <td>2023-05-23 23:19:41.335</td>\n      <td>1500.0</td>\n      <td>undefined</td>\n    </tr>\n    <tr>\n      <th>0</th>\n      <td>f70c1033-36ae-4b8b-8b89-099a96dccca5</td>\n      <td>participant_1</td>\n      <td>2023-05-23 23:19:41.336</td>\n      <td>4405.0</td>\n      <td>undefined</td>\n    </tr>\n    <tr>\n      <th>0</th>\n      <td>f70c1033-36ae-4b8b-8b89-099a96dccca5</td>\n      <td>participant_1</td>\n      <td>2023-05-23 23:19:41.337</td>\n      <td>3072.0</td>\n      <td>undefined</td>\n    </tr>\n    <tr>\n      <th>0</th>\n      <td>f70c1033-36ae-4b8b-8b89-099a96dccca5</td>\n      <td>participant_1</td>\n      <td>2023-05-23 23:19:41.338</td>\n      <td>1405.0</td>\n      <td>undefined</td>\n    </tr>\n    <tr>\n      <th>0</th>\n      <td>f70c1033-36ae-4b8b-8b89-099a96dccca5</td>\n      <td>participant_1</td>\n      <td>2023-05-23 23:19:41.339</td>\n      <td>838.0</td>\n      <td>undefined</td>\n    </tr>\n    <tr>\n      <th>...</th>\n      <td>...</td>\n      <td>...</td>\n      <td>...</td>\n      <td>...</td>\n      <td>...</td>\n    </tr>\n    <tr>\n      <th>0</th>\n      <td>f70c1033-36ae-4b8b-8b89-099a96dccca5</td>\n      <td>participant_1</td>\n      <td>2023-05-23 23:20:41.330</td>\n      <td>2771.0</td>\n      <td>undefined</td>\n    </tr>\n    <tr>\n      <th>0</th>\n      <td>f70c1033-36ae-4b8b-8b89-099a96dccca5</td>\n      <td>participant_1</td>\n      <td>2023-05-23 23:20:41.331</td>\n      <td>2040.0</td>\n      <td>undefined</td>\n    </tr>\n    <tr>\n      <th>0</th>\n      <td>f70c1033-36ae-4b8b-8b89-099a96dccca5</td>\n      <td>participant_1</td>\n      <td>2023-05-23 23:20:41.332</td>\n      <td>1960.0</td>\n      <td>undefined</td>\n    </tr>\n    <tr>\n      <th>0</th>\n      <td>f70c1033-36ae-4b8b-8b89-099a96dccca5</td>\n      <td>participant_1</td>\n      <td>2023-05-23 23:20:41.333</td>\n      <td>1861.0</td>\n      <td>undefined</td>\n    </tr>\n    <tr>\n      <th>0</th>\n      <td>f70c1033-36ae-4b8b-8b89-099a96dccca5</td>\n      <td>participant_1</td>\n      <td>2023-05-23 23:20:41.334</td>\n      <td>1180.0</td>\n      <td>undefined</td>\n    </tr>\n  </tbody>\n</table>\n<p>60000 rows × 5 columns</p>\n</div>"
     },
     "metadata": {},
     "output_type": "display_data"
    },
    {
     "name": "stderr",
     "output_type": "stream",
     "text": [
      "  0%|          | 0/1 [00:00<?, ?it/s]\n"
     ]
    },
    {
     "ename": "TypeError",
     "evalue": "ufunc 'isnan' not supported for the input types, and the inputs could not be safely coerced to any supported types according to the casting rule ''safe''",
     "output_type": "error",
     "traceback": [
      "\u001B[1;31m---------------------------------------------------------------------------\u001B[0m",
      "\u001B[1;31mTypeError\u001B[0m                                 Traceback (most recent call last)",
      "Cell \u001B[1;32mIn[12], line 8\u001B[0m\n\u001B[0;32m      6\u001B[0m display(sample_df)\n\u001B[0;32m      7\u001B[0m \u001B[38;5;66;03m# preprocess ecg\u001B[39;00m\n\u001B[1;32m----> 8\u001B[0m sample_df[\u001B[38;5;124m'\u001B[39m\u001B[38;5;124mecg\u001B[39m\u001B[38;5;124m'\u001B[39m] \u001B[38;5;241m=\u001B[39m \u001B[43mnk\u001B[49m\u001B[38;5;241;43m.\u001B[39;49m\u001B[43mecg_clean\u001B[49m\u001B[43m(\u001B[49m\u001B[43msample_df\u001B[49m\u001B[43m[\u001B[49m\u001B[38;5;124;43m'\u001B[39;49m\u001B[38;5;124;43mecg\u001B[39;49m\u001B[38;5;124;43m'\u001B[39;49m\u001B[43m]\u001B[49m\u001B[43m,\u001B[49m\u001B[43m \u001B[49m\u001B[43msampling_rate\u001B[49m\u001B[38;5;241;43m=\u001B[39;49m\u001B[43mconfigs\u001B[49m\u001B[43m[\u001B[49m\u001B[38;5;124;43m'\u001B[39;49m\u001B[38;5;124;43mfrequency\u001B[39;49m\u001B[38;5;124;43m'\u001B[39;49m\u001B[43m]\u001B[49m\u001B[43m,\u001B[49m\u001B[43m \u001B[49m\u001B[43mmethod\u001B[49m\u001B[38;5;241;43m=\u001B[39;49m\u001B[38;5;124;43m\"\u001B[39;49m\u001B[38;5;124;43mpantompkins1985\u001B[39;49m\u001B[38;5;124;43m\"\u001B[39;49m\u001B[43m)\u001B[49m\n\u001B[0;32m      9\u001B[0m \u001B[38;5;66;03m# slice in windows (window_size and window_slicing_method)\u001B[39;00m\n\u001B[0;32m     10\u001B[0m windows \u001B[38;5;241m=\u001B[39m fe\u001B[38;5;241m.\u001B[39mcreate_windows(sample_df, \u001B[38;5;124m'\u001B[39m\u001B[38;5;124mtimestamp_idx\u001B[39m\u001B[38;5;124m'\u001B[39m, window_size, window_slicing_method)\n",
      "File \u001B[1;32m~\\anaconda3\\envs\\py310\\lib\\site-packages\\neurokit2\\ecg\\ecg_clean.py:89\u001B[0m, in \u001B[0;36mecg_clean\u001B[1;34m(ecg_signal, sampling_rate, method, **kwargs)\u001B[0m\n\u001B[0;32m     86\u001B[0m ecg_signal \u001B[38;5;241m=\u001B[39m as_vector(ecg_signal)\n\u001B[0;32m     88\u001B[0m \u001B[38;5;66;03m# Missing data\u001B[39;00m\n\u001B[1;32m---> 89\u001B[0m n_missing \u001B[38;5;241m=\u001B[39m np\u001B[38;5;241m.\u001B[39msum(\u001B[43mnp\u001B[49m\u001B[38;5;241;43m.\u001B[39;49m\u001B[43misnan\u001B[49m\u001B[43m(\u001B[49m\u001B[43mecg_signal\u001B[49m\u001B[43m)\u001B[49m)\n\u001B[0;32m     90\u001B[0m \u001B[38;5;28;01mif\u001B[39;00m n_missing \u001B[38;5;241m>\u001B[39m \u001B[38;5;241m0\u001B[39m:\n\u001B[0;32m     91\u001B[0m     warn(\n\u001B[0;32m     92\u001B[0m         \u001B[38;5;124m\"\u001B[39m\u001B[38;5;124mThere are \u001B[39m\u001B[38;5;124m\"\u001B[39m \u001B[38;5;241m+\u001B[39m \u001B[38;5;28mstr\u001B[39m(n_missing) \u001B[38;5;241m+\u001B[39m \u001B[38;5;124m\"\u001B[39m\u001B[38;5;124m missing data points in your signal.\u001B[39m\u001B[38;5;124m\"\u001B[39m\n\u001B[0;32m     93\u001B[0m         \u001B[38;5;124m\"\u001B[39m\u001B[38;5;124m Filling missing values by using the forward filling method.\u001B[39m\u001B[38;5;124m\"\u001B[39m,\n\u001B[0;32m     94\u001B[0m         category\u001B[38;5;241m=\u001B[39mNeuroKitWarning,\n\u001B[0;32m     95\u001B[0m     )\n",
      "\u001B[1;31mTypeError\u001B[0m: ufunc 'isnan' not supported for the input types, and the inputs could not be safely coerced to any supported types according to the casting rule ''safe''"
     ]
    }
   ],
   "source": [
    "features_df = pd.DataFrame()\n",
    "# iterate over samples of ecg batch\n",
    "for sample in tqdm(ecg_batch['samples']):\n",
    "    # convert to pandas\n",
    "    sample_df = pd.json_normalize(sample).explode(['timestamp_idx', 'ecg', 'label'])\n",
    "    display(sample_df)\n",
    "    # preprocess ecg\n",
    "    sample_df['ecg'] = nk.ecg_clean(sample_df['ecg'], sampling_rate=configs['frequency'], method=\"pantompkins1985\")\n",
    "    # slice in windows (window_size and window_slicing_method)\n",
    "    windows = fe.create_windows(sample_df, 'timestamp_idx', window_size, window_slicing_method)\n",
    "    print(f'Number of windows: {len(list(windows))}')\n",
    "    # compute ecg features vor each window https://www.ncbi.nlm.nih.gov/pmc/articles/PMC8203359/\n",
    "    for i, window in enumerate(windows):\n",
    "        # compute features\n",
    "        features = fe.hrv_features(window['ecg'].values, configs['frequency'])\n",
    "        # Create a DataFrame for the features\n",
    "        tmp = pd.DataFrame(features, index=[0])\n",
    "        # Add additional columns\n",
    "        tmp['sample_id'] = sample['sample_id'].unique()\n",
    "        tmp['subject_id'] = sample['subject_id'].unique()\n",
    "        tmp['window_id'] = i\n",
    "        tmp['w_start_time'] = window['timestamp_idx'].min()\n",
    "        tmp['W_end_time'] = window['timestamp_idx'].max()\n",
    "        # add new window features to df of all\n",
    "        features_df = pd.concat([features_df, tmp], axis=0)\n",
    "\n",
    "features_df.reset_index(drop=True, inplace=True)"
   ],
   "metadata": {
    "collapsed": false,
    "ExecuteTime": {
     "end_time": "2023-05-31T11:26:02.784319200Z",
     "start_time": "2023-05-31T11:26:02.693036900Z"
    }
   }
  },
  {
   "cell_type": "code",
   "execution_count": null,
   "outputs": [],
   "source": [],
   "metadata": {
    "collapsed": false
   }
  }
 ],
 "metadata": {
  "kernelspec": {
   "display_name": "Python 3",
   "language": "python",
   "name": "python3"
  },
  "language_info": {
   "codemirror_mode": {
    "name": "ipython",
    "version": 2
   },
   "file_extension": ".py",
   "mimetype": "text/x-python",
   "name": "python",
   "nbconvert_exporter": "python",
   "pygments_lexer": "ipython2",
   "version": "2.7.6"
  }
 },
 "nbformat": 4,
 "nbformat_minor": 0
}
