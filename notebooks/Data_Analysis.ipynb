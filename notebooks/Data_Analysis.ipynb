{
 "cells": [
  {
   "cell_type": "markdown",
   "source": [
    "Worth taking a look at:\n",
    "- [HeartPy](https://python-heart-rate-analysis-toolkit.readthedocs.io/en/latest/) library\n",
    "- [Biosppy](https://biosppy.readthedocs.io/en/stable/index.html) library\n",
    "Generally useful:\n",
    "- [Neurokit2](https://neurokit2.readthedocs.io/en/latest/) library"
   ],
   "metadata": {
    "collapsed": false,
    "pycharm": {
     "name": "#%% md\n"
    }
   }
  },
  {
   "cell_type": "markdown",
   "source": [
    "# Imports"
   ],
   "metadata": {
    "collapsed": false,
    "pycharm": {
     "name": "#%% md\n"
    }
   }
  },
  {
   "cell_type": "code",
   "execution_count": 1,
   "outputs": [],
   "source": [
    "import matplotlib.pyplot as plt\n",
    "import pandas as pd\n",
    "import glob\n",
    "from tqdm import tqdm\n",
    "from typing import Dict\n",
    "from scipy.signal import resample\n",
    "import neurokit2 as nk\n",
    "import matplotlib.pyplot as plt\n",
    "import seaborn as sns\n",
    "from scipy.signal import butter, filtfilt\n",
    "import heartpy as hp\n",
    "import seaborn as sns\n",
    "import numpy as np\n",
    "from biosppy.signals import ecg\n",
    "from scipy.signal import welch\n",
    "from sklearn.preprocessing import StandardScaler"
   ],
   "metadata": {
    "collapsed": false,
    "pycharm": {
     "name": "#%%\n"
    },
    "ExecuteTime": {
     "end_time": "2023-05-25T21:52:02.768820800Z",
     "start_time": "2023-05-25T21:52:02.113515400Z"
    }
   }
  },
  {
   "cell_type": "code",
   "execution_count": 2,
   "outputs": [],
   "source": [
    "%matplotlib inline\n",
    "sns.set_theme()"
   ],
   "metadata": {
    "collapsed": false,
    "pycharm": {
     "name": "#%%\n"
    },
    "ExecuteTime": {
     "end_time": "2023-05-25T21:52:02.783848200Z",
     "start_time": "2023-05-25T21:52:02.769823100Z"
    }
   }
  },
  {
   "cell_type": "markdown",
   "source": [
    "# Import Data\n",
    "\n",
    "Used Dataset:\n",
    "- [WESAD: Multimodal Dataset for Wearable Stress and Affect Detection](https://ubicomp.eti.uni-siegen.de/home/datasets/icmi18/): Exclusively importing the available pickle files from each subject (S2.pkl, S2.pkl, ...) and combining them\n",
    "- Self-Generated Dataset (ECGPrivate):\n",
    "    - Device: Bioplux Chest (and Finger) Band\n",
    "    - Dataframes are modeled following the already implemented pydantic models"
   ],
   "metadata": {
    "collapsed": false,
    "pycharm": {
     "name": "#%% md\n"
    }
   }
  },
  {
   "cell_type": "code",
   "execution_count": 3,
   "outputs": [],
   "source": [
    "def dict_to_dataframe_WESAD(dict):\n",
    "    \"\"\"\n",
    "    Convert a dictionary object loaded from the WESAD dataset to a pandas DataFrames. The WESAD dataset contains multiple dictionary objects, each containing a single subject's data. See https://archive.ics.uci.edu/ml/datasets/WESAD+%28Wearable+Stress+and+Affect+Detection%29 for more information on the WESAD dataset.\n",
    "\n",
    "    :param dict: A dictionary object containing the data to convert.\n",
    "    :type dict: dict\n",
    "\n",
    "    :return: A pandas DataFrame containing the converted data.\n",
    "    :rtype: pandas DataFrame\n",
    "    \"\"\"\n",
    "\n",
    "    df = pd.DataFrame()\n",
    "\n",
    "    df[\"ECG\"] = dict[\"signal\"][\"chest\"][\"ECG\"].flatten()\n",
    "    df[\"label\"] = dict[\"label\"].flatten()\n",
    "    df[\"subject\"] = dict[\"subject\"]\n",
    "\n",
    "    df.reset_index(names=\"timestamp_idx\", inplace=True)\n",
    "\n",
    "    return df"
   ],
   "metadata": {
    "collapsed": false,
    "pycharm": {
     "name": "#%%\n"
    },
    "ExecuteTime": {
     "end_time": "2023-05-25T21:52:02.804059800Z",
     "start_time": "2023-05-25T21:52:02.786848500Z"
    }
   }
  },
  {
   "cell_type": "code",
   "execution_count": 4,
   "outputs": [],
   "source": [
    "def combine_pickles_to_df(pattern, wesad_ecg=False):\n",
    "    \"\"\"\n",
    "    Load multiple pickle files that contain the same type of data from different subjects or sessions and combining them into a single DataFrame.\n",
    "\n",
    "    :param pattern: A glob pattern that matches the pickle files to load.\n",
    "    :type pattern: str\n",
    "    :param wesad: Whether to convert dictionary objects to DataFrames (only used for WESAD dataset). Defaults to False.\n",
    "    :type wesad: bool\n",
    "\n",
    "    :return: A pandas DataFrame that combines the loaded DataFrames.\n",
    "    :rtype: pandas DataFrame\n",
    "    \"\"\"\n",
    "\n",
    "    dfs = []\n",
    "    for file_path in tqdm(glob.glob(pattern)):\n",
    "        with open(file_path, 'rb') as f:\n",
    "            try:\n",
    "                df = pd.read_pickle(f)\n",
    "            except AttributeError:\n",
    "                raise ValueError(f\"Expected a pandas DataFrame, but got {type(df)}\")\n",
    "            if isinstance(df, Dict) and wesad_ecg:\n",
    "                df = dict_to_dataframe_WESAD(df)\n",
    "            dfs.append(df)\n",
    "    combined_df = pd.concat(dfs, ignore_index=True)\n",
    "\n",
    "    return combined_df"
   ],
   "metadata": {
    "collapsed": false,
    "pycharm": {
     "name": "#%%\n"
    },
    "ExecuteTime": {
     "end_time": "2023-05-25T21:52:02.815464100Z",
     "start_time": "2023-05-25T21:52:02.803059300Z"
    }
   }
  },
  {
   "cell_type": "markdown",
   "source": [
    "### WESAD Data"
   ],
   "metadata": {
    "collapsed": false,
    "pycharm": {
     "name": "#%% md\n"
    }
   }
  },
  {
   "cell_type": "code",
   "execution_count": 5,
   "outputs": [],
   "source": [
    "# Configs\n",
    "# wesad respian sampling rate in hz\n",
    "fs_wesad = 700"
   ],
   "metadata": {
    "collapsed": false,
    "ExecuteTime": {
     "end_time": "2023-05-25T21:52:02.832027700Z",
     "start_time": "2023-05-25T21:52:02.816465400Z"
    }
   }
  },
  {
   "cell_type": "code",
   "execution_count": 6,
   "outputs": [
    {
     "name": "stderr",
     "output_type": "stream",
     "text": [
      "0it [00:00, ?it/s]\n"
     ]
    },
    {
     "ename": "ValueError",
     "evalue": "No objects to concatenate",
     "output_type": "error",
     "traceback": [
      "\u001B[1;31m---------------------------------------------------------------------------\u001B[0m",
      "\u001B[1;31mValueError\u001B[0m                                Traceback (most recent call last)",
      "File \u001B[1;32m<timed exec>:2\u001B[0m\n",
      "Cell \u001B[1;32mIn[4], line 24\u001B[0m, in \u001B[0;36mcombine_pickles_to_df\u001B[1;34m(pattern, wesad_ecg)\u001B[0m\n\u001B[0;32m     22\u001B[0m             df \u001B[38;5;241m=\u001B[39m dict_to_dataframe_WESAD(df)\n\u001B[0;32m     23\u001B[0m         dfs\u001B[38;5;241m.\u001B[39mappend(df)\n\u001B[1;32m---> 24\u001B[0m combined_df \u001B[38;5;241m=\u001B[39m \u001B[43mpd\u001B[49m\u001B[38;5;241;43m.\u001B[39;49m\u001B[43mconcat\u001B[49m\u001B[43m(\u001B[49m\u001B[43mdfs\u001B[49m\u001B[43m,\u001B[49m\u001B[43m \u001B[49m\u001B[43mignore_index\u001B[49m\u001B[38;5;241;43m=\u001B[39;49m\u001B[38;5;28;43;01mTrue\u001B[39;49;00m\u001B[43m)\u001B[49m\n\u001B[0;32m     26\u001B[0m \u001B[38;5;28;01mreturn\u001B[39;00m combined_df\n",
      "File \u001B[1;32m~\\anaconda3\\envs\\py310\\lib\\site-packages\\pandas\\util\\_decorators.py:331\u001B[0m, in \u001B[0;36mdeprecate_nonkeyword_arguments.<locals>.decorate.<locals>.wrapper\u001B[1;34m(*args, **kwargs)\u001B[0m\n\u001B[0;32m    325\u001B[0m \u001B[38;5;28;01mif\u001B[39;00m \u001B[38;5;28mlen\u001B[39m(args) \u001B[38;5;241m>\u001B[39m num_allow_args:\n\u001B[0;32m    326\u001B[0m     warnings\u001B[38;5;241m.\u001B[39mwarn(\n\u001B[0;32m    327\u001B[0m         msg\u001B[38;5;241m.\u001B[39mformat(arguments\u001B[38;5;241m=\u001B[39m_format_argument_list(allow_args)),\n\u001B[0;32m    328\u001B[0m         \u001B[38;5;167;01mFutureWarning\u001B[39;00m,\n\u001B[0;32m    329\u001B[0m         stacklevel\u001B[38;5;241m=\u001B[39mfind_stack_level(),\n\u001B[0;32m    330\u001B[0m     )\n\u001B[1;32m--> 331\u001B[0m \u001B[38;5;28;01mreturn\u001B[39;00m func(\u001B[38;5;241m*\u001B[39margs, \u001B[38;5;241m*\u001B[39m\u001B[38;5;241m*\u001B[39mkwargs)\n",
      "File \u001B[1;32m~\\anaconda3\\envs\\py310\\lib\\site-packages\\pandas\\core\\reshape\\concat.py:368\u001B[0m, in \u001B[0;36mconcat\u001B[1;34m(objs, axis, join, ignore_index, keys, levels, names, verify_integrity, sort, copy)\u001B[0m\n\u001B[0;32m    146\u001B[0m \u001B[38;5;129m@deprecate_nonkeyword_arguments\u001B[39m(version\u001B[38;5;241m=\u001B[39m\u001B[38;5;28;01mNone\u001B[39;00m, allowed_args\u001B[38;5;241m=\u001B[39m[\u001B[38;5;124m\"\u001B[39m\u001B[38;5;124mobjs\u001B[39m\u001B[38;5;124m\"\u001B[39m])\n\u001B[0;32m    147\u001B[0m \u001B[38;5;28;01mdef\u001B[39;00m \u001B[38;5;21mconcat\u001B[39m(\n\u001B[0;32m    148\u001B[0m     objs: Iterable[NDFrame] \u001B[38;5;241m|\u001B[39m Mapping[HashableT, NDFrame],\n\u001B[1;32m   (...)\u001B[0m\n\u001B[0;32m    157\u001B[0m     copy: \u001B[38;5;28mbool\u001B[39m \u001B[38;5;241m=\u001B[39m \u001B[38;5;28;01mTrue\u001B[39;00m,\n\u001B[0;32m    158\u001B[0m ) \u001B[38;5;241m-\u001B[39m\u001B[38;5;241m>\u001B[39m DataFrame \u001B[38;5;241m|\u001B[39m Series:\n\u001B[0;32m    159\u001B[0m \u001B[38;5;250m    \u001B[39m\u001B[38;5;124;03m\"\"\"\u001B[39;00m\n\u001B[0;32m    160\u001B[0m \u001B[38;5;124;03m    Concatenate pandas objects along a particular axis.\u001B[39;00m\n\u001B[0;32m    161\u001B[0m \n\u001B[1;32m   (...)\u001B[0m\n\u001B[0;32m    366\u001B[0m \u001B[38;5;124;03m    1   3   4\u001B[39;00m\n\u001B[0;32m    367\u001B[0m \u001B[38;5;124;03m    \"\"\"\u001B[39;00m\n\u001B[1;32m--> 368\u001B[0m     op \u001B[38;5;241m=\u001B[39m \u001B[43m_Concatenator\u001B[49m\u001B[43m(\u001B[49m\n\u001B[0;32m    369\u001B[0m \u001B[43m        \u001B[49m\u001B[43mobjs\u001B[49m\u001B[43m,\u001B[49m\n\u001B[0;32m    370\u001B[0m \u001B[43m        \u001B[49m\u001B[43maxis\u001B[49m\u001B[38;5;241;43m=\u001B[39;49m\u001B[43maxis\u001B[49m\u001B[43m,\u001B[49m\n\u001B[0;32m    371\u001B[0m \u001B[43m        \u001B[49m\u001B[43mignore_index\u001B[49m\u001B[38;5;241;43m=\u001B[39;49m\u001B[43mignore_index\u001B[49m\u001B[43m,\u001B[49m\n\u001B[0;32m    372\u001B[0m \u001B[43m        \u001B[49m\u001B[43mjoin\u001B[49m\u001B[38;5;241;43m=\u001B[39;49m\u001B[43mjoin\u001B[49m\u001B[43m,\u001B[49m\n\u001B[0;32m    373\u001B[0m \u001B[43m        \u001B[49m\u001B[43mkeys\u001B[49m\u001B[38;5;241;43m=\u001B[39;49m\u001B[43mkeys\u001B[49m\u001B[43m,\u001B[49m\n\u001B[0;32m    374\u001B[0m \u001B[43m        \u001B[49m\u001B[43mlevels\u001B[49m\u001B[38;5;241;43m=\u001B[39;49m\u001B[43mlevels\u001B[49m\u001B[43m,\u001B[49m\n\u001B[0;32m    375\u001B[0m \u001B[43m        \u001B[49m\u001B[43mnames\u001B[49m\u001B[38;5;241;43m=\u001B[39;49m\u001B[43mnames\u001B[49m\u001B[43m,\u001B[49m\n\u001B[0;32m    376\u001B[0m \u001B[43m        \u001B[49m\u001B[43mverify_integrity\u001B[49m\u001B[38;5;241;43m=\u001B[39;49m\u001B[43mverify_integrity\u001B[49m\u001B[43m,\u001B[49m\n\u001B[0;32m    377\u001B[0m \u001B[43m        \u001B[49m\u001B[43mcopy\u001B[49m\u001B[38;5;241;43m=\u001B[39;49m\u001B[43mcopy\u001B[49m\u001B[43m,\u001B[49m\n\u001B[0;32m    378\u001B[0m \u001B[43m        \u001B[49m\u001B[43msort\u001B[49m\u001B[38;5;241;43m=\u001B[39;49m\u001B[43msort\u001B[49m\u001B[43m,\u001B[49m\n\u001B[0;32m    379\u001B[0m \u001B[43m    \u001B[49m\u001B[43m)\u001B[49m\n\u001B[0;32m    381\u001B[0m     \u001B[38;5;28;01mreturn\u001B[39;00m op\u001B[38;5;241m.\u001B[39mget_result()\n",
      "File \u001B[1;32m~\\anaconda3\\envs\\py310\\lib\\site-packages\\pandas\\core\\reshape\\concat.py:425\u001B[0m, in \u001B[0;36m_Concatenator.__init__\u001B[1;34m(self, objs, axis, join, keys, levels, names, ignore_index, verify_integrity, copy, sort)\u001B[0m\n\u001B[0;32m    422\u001B[0m     objs \u001B[38;5;241m=\u001B[39m \u001B[38;5;28mlist\u001B[39m(objs)\n\u001B[0;32m    424\u001B[0m \u001B[38;5;28;01mif\u001B[39;00m \u001B[38;5;28mlen\u001B[39m(objs) \u001B[38;5;241m==\u001B[39m \u001B[38;5;241m0\u001B[39m:\n\u001B[1;32m--> 425\u001B[0m     \u001B[38;5;28;01mraise\u001B[39;00m \u001B[38;5;167;01mValueError\u001B[39;00m(\u001B[38;5;124m\"\u001B[39m\u001B[38;5;124mNo objects to concatenate\u001B[39m\u001B[38;5;124m\"\u001B[39m)\n\u001B[0;32m    427\u001B[0m \u001B[38;5;28;01mif\u001B[39;00m keys \u001B[38;5;129;01mis\u001B[39;00m \u001B[38;5;28;01mNone\u001B[39;00m:\n\u001B[0;32m    428\u001B[0m     objs \u001B[38;5;241m=\u001B[39m \u001B[38;5;28mlist\u001B[39m(com\u001B[38;5;241m.\u001B[39mnot_none(\u001B[38;5;241m*\u001B[39mobjs))\n",
      "\u001B[1;31mValueError\u001B[0m: No objects to concatenate"
     ]
    }
   ],
   "source": [
    "%%time\n",
    "# load WESAD\n",
    "df_wesad = combine_pickles_to_df('../data/raw/S15.pkl', wesad_ecg=True)"
   ],
   "metadata": {
    "collapsed": false,
    "pycharm": {
     "name": "#%%\n"
    },
    "ExecuteTime": {
     "end_time": "2023-05-25T21:52:03.351192800Z",
     "start_time": "2023-05-25T21:52:02.831026500Z"
    }
   }
  },
  {
   "cell_type": "code",
   "execution_count": 7,
   "outputs": [
    {
     "ename": "NameError",
     "evalue": "name 'df_wesad' is not defined",
     "output_type": "error",
     "traceback": [
      "\u001B[1;31m---------------------------------------------------------------------------\u001B[0m",
      "\u001B[1;31mNameError\u001B[0m                                 Traceback (most recent call last)",
      "Cell \u001B[1;32mIn[7], line 1\u001B[0m\n\u001B[1;32m----> 1\u001B[0m \u001B[43mdf_wesad\u001B[49m\n",
      "\u001B[1;31mNameError\u001B[0m: name 'df_wesad' is not defined"
     ]
    }
   ],
   "source": [
    "df_wesad"
   ],
   "metadata": {
    "collapsed": false,
    "pycharm": {
     "name": "#%%\n"
    },
    "ExecuteTime": {
     "end_time": "2023-05-25T21:52:03.602778800Z",
     "start_time": "2023-05-25T21:52:03.353193Z"
    }
   }
  },
  {
   "cell_type": "code",
   "execution_count": null,
   "outputs": [],
   "source": [
    "# Plot filtered ECG data\n",
    "plt.figure(figsize=(20, 5))\n",
    "plt.plot(\"timestamp_idx\", \"ECG\", data=df_wesad)\n",
    "plt.title(\"Raw ECG Data\")\n",
    "plt.xlabel(\"timestamp_idx\")\n",
    "plt.ylabel(\"voltage\")\n",
    "plt.xlim(10000, 30000)\n",
    "plt.show()"
   ],
   "metadata": {
    "collapsed": false,
    "pycharm": {
     "name": "#%%\n"
    }
   }
  },
  {
   "cell_type": "markdown",
   "source": [
    "### Self-generated dataset"
   ],
   "metadata": {
    "collapsed": false,
    "pycharm": {
     "name": "#%% md\n"
    }
   }
  },
  {
   "cell_type": "code",
   "execution_count": null,
   "outputs": [],
   "source": [],
   "metadata": {
    "collapsed": false,
    "pycharm": {
     "name": "#%%\n"
    }
   }
  },
  {
   "cell_type": "markdown",
   "source": [
    "# Preprocessing\n",
    "\n",
    "Steps Preprocessing (def preprocess_ecg) ~ process_ecg neurokit2:\n",
    "1. **Filtering**: Highpass filter (remove baseline wander) and Bandpass filter (remove noise) using the [Scipy](https://www.scipy.org/) library (butterworth filter)\n",
    "2. **Resampling**: Resample using the [Scipy](https://www.scipy.org/) library\n",
    "3. **Scaling/Normalizing**: Standardization (z-score normalization) using the [Scikit-learn](https://scikit-learn.org/stable/) library\n",
    "(summarize previous steps via ecg_clean by neurokit2)\n",
    "4. **R-Peak Detection**: Using the [Neurokit2](https://neurokit2.readthedocs.io/en/latest/) library\n",
    "2. **Heart Rate Variability**: Using the"
   ],
   "metadata": {
    "collapsed": false,
    "pycharm": {
     "name": "#%% md\n"
    }
   }
  },
  {
   "cell_type": "markdown",
   "source": [
    "## Normalize\n",
    "\n",
    "**Applied and implemented techniques:**\n",
    "- **a) Standardization**: z-score normalization (subtracting mean and dividing by standard deviation)\n",
    "\n",
    "**Reasoning:**\n",
    "Standardization is a common preprocessing step. It is used to normalize the data so that the data has a mean of 0 and a standard deviation of 1. Normalizing ECG (Electrocardiogram) data is beneficial for several reasons:\n",
    "\n",
    "1. **Scale invariance:** ECG signals are typically measured in millivolts (mV) and have varying amplitude ranges. By normalizing the data, you can ensure that the features are scaled consistently across different ECG recordings. This helps in making the algorithm or model more robust and independent of the specific scale of the data.\n",
    "\n",
    "2. **Minimization of bias:** Normalizing the ECG data helps prevent certain features from dominating the analysis simply because of their larger magnitudes. Without normalization, features with larger values can have a disproportionate influence on the overall analysis, potentially leading to biased results.\n",
    "\n",
    "3. **Facilitation of feature comparison:** Normalizing the ECG data allows for fairer comparisons between different features or channels. It ensures that the features are on a comparable scale, enabling meaningful comparisons based on their values or statistical properties.\n",
    "\n",
    "4. **Preservation of relative patterns:** ECG waveforms often contain important temporal patterns and relationships. Normalization ensures that these relative patterns are preserved, even if the absolute amplitudes are scaled uniformly. This is crucial for accurate interpretation and analysis of ECG signals."
   ],
   "metadata": {
    "collapsed": false,
    "pycharm": {
     "name": "#%% md\n"
    }
   }
  },
  {
   "cell_type": "code",
   "execution_count": null,
   "outputs": [],
   "source": [
    "# create a StandardScaler object\n",
    "scaler = StandardScaler()\n",
    "# Normalize ECG data\n",
    "normalized_ecg = scaler.fit_transform(df_wesad[[\"ECG\"]])\n",
    "normalized_df = df_wesad.copy()\n",
    "normalized_df[\"ECG\"] = normalized_ecg"
   ],
   "metadata": {
    "collapsed": false,
    "pycharm": {
     "name": "#%%\n"
    }
   }
  },
  {
   "cell_type": "markdown",
   "source": [
    "For further usage we are only going to use the standardized data."
   ],
   "metadata": {
    "collapsed": false,
    "pycharm": {
     "name": "#%% md\n"
    }
   }
  },
  {
   "cell_type": "code",
   "execution_count": null,
   "outputs": [],
   "source": [
    "df = normalized_df.copy()"
   ],
   "metadata": {
    "collapsed": false,
    "pycharm": {
     "name": "#%%\n"
    }
   }
  },
  {
   "cell_type": "markdown",
   "source": [
    "## Filtering / Denoising\n",
    "\n",
    "**Applied and implemented techniques:**\n",
    "- **a) Highpass filter**: Remove baseline wander\n",
    "- **b) Bandpass filter**: Remove noise\n",
    "\n",
    "**Reasoning:**\n",
    "A band-pass filter allows a range of frequencies to pass while attenuating frequencies outside the range. In most cases, a band-pass filter includes both high-pass and low-pass filters as a part of its design. Therefore, a band-pass filter can attenuate both baseline wander and higher frequency noise in one step.\n",
    "\n",
    "However, in some cases, using a high-pass filter separately before applying a band-pass filter may be necessary to avoid over-filtering and loss of important ECG signal components. This is especially true if the ECG signal contains low-frequency components of interest, such as the T wave or P wave. For this reason both are used. See [here](https://en.wikipedia.org/wiki/Band-pass_filter) for more information on band-pass filters. See [here](https://en.wikipedia.org/wiki/High-pass_filter) for more information on high-pass filters."
   ],
   "metadata": {
    "collapsed": false,
    "pycharm": {
     "name": "#%% md\n"
    }
   }
  },
  {
   "cell_type": "markdown",
   "source": [
    "a) Remove basline wander via **highpass filter**\n",
    "\n",
    "Explanation of parameters used for applying a high-pass filter:\n",
    "- sampling_rate: The sampling rate of the ECG signal in Hz. The sampling rate is the number of samples obtained per second. For example, if the sampling rate is 360 Hz, then 360 samples are obtained per second. The sampling rate is used to determine the cutoff frequency of the high-pass filter.\n",
    "- cutoff_freq: The cutoff frequency of the high-pass filter in Hz. The cutoff frequency is the frequency below which all frequencies are attenuated.\n",
    "- nyquist_freq: The Nyquist frequency of the high-pass filter in Hz. The Nyquist frequency is half of the sampling rate (in Hz). For example, if the sampling rate is 360 Hz, then the Nyquist frequency is 180 Hz. The Nyquist frequency is used to determine the order of the high-pass filter. See [here](https://en.wikipedia.org/wiki/Nyquist_frequency) for more information on Nyquist Frequency and the Nyquist-Shannon Sampling Theorem (Nyquist Sampling Rate) which states that a signal can be perfectly reconstructed from its samples if the sampling rate is greater than twice the highest frequency component in the signal. This is why the Nyquist Frequency is half the sampling rate.\n",
    "- filter_order: The order of the high-pass filter (e.g. 3rd order Butterworth filter). The higher the order, the steeper the filter roll-off (i.e. the faster the filter attenuation). However, higher order filters are more computationally expensive. A 3rd order filter is a good compromise between filter roll-off and computational cost.\n"
   ],
   "metadata": {
    "collapsed": false,
    "pycharm": {
     "name": "#%% md\n"
    }
   }
  },
  {
   "cell_type": "markdown",
   "source": [],
   "metadata": {
    "collapsed": false,
    "pycharm": {
     "name": "#%% md\n"
    }
   }
  },
  {
   "cell_type": "code",
   "execution_count": null,
   "outputs": [],
   "source": [
    "def remove_basline_wander(data, sampling_rate=360, cutoff_freq=0.05):\n",
    "    \"\"\"\n",
    "    Remove baseline wander from ECG data using a high-pass filter. The high-pass filter will remove all frequencies below the cutoff frequency. The cutoff frequency should be set to the lowest frequency that is still considered baseline wander and not part of the ECG signal. For example, baseline wander is typically between 0.05 Hz and 0.5 Hz. Therefore, a cutoff frequency of 0.05 Hz is a good starting point. However, if the ECG signal contains low-frequency components of interest, such as the T wave or P wave, then a higher cutoff frequency may be necessary to avoid over-filtering and loss of important ECG signal components. For this reason, a cutoff frequency of 0.5 Hz is also a good starting point. The cutoff frequency can be adjusted as needed. See https://en.wikipedia.org/wiki/High-pass_filter for more information on high-pass filters.\n",
    "\n",
    "    :param data: ECG data as a 1-dimensional numpy array\n",
    "    :type data: numpy array\n",
    "    :param sampling_rate: sampling rate of ECG data (Hz), defaults to 360\n",
    "    :type sampling_rate: int, optional\n",
    "    :param cutoff_freq: cutoff frequency of high-pass filter (Hz), defaults to 0.05\n",
    "    :type cutoff_freq: float, optional\n",
    "\n",
    "    :return: ECG data with baseline wander removed\n",
    "    :rtype: numpy array\n",
    "    \"\"\"\n",
    "\n",
    "    # Define filter parameters\n",
    "    # Nyquist frequency - The highest frequency that can be represented given the sampling frequency. Nyquist Frequency is half the sampling rate (in Hz).\n",
    "    nyquist_freq = 0.5 * sampling_rate\n",
    "    # Filter order - The higher the order, the steeper the filter roll-off (i.e. the more aggressive the filter is at removing frequencies outside the passband).\n",
    "    filter_order = 3\n",
    "    # Apply high-pass filter\n",
    "    b, a = butter(filter_order, cutoff_freq/nyquist_freq, 'highpass')\n",
    "    filtered_data = filtfilt(b, a, data)\n",
    "\n",
    "    return filtered_data"
   ],
   "metadata": {
    "collapsed": false,
    "pycharm": {
     "name": "#%%\n"
    }
   }
  },
  {
   "cell_type": "code",
   "execution_count": null,
   "outputs": [],
   "source": [
    "filtered_ecg = remove_basline_wander(df[\"ECG\"].values, sampling_rate=fs_wesad)\n",
    "filtered_df = df.copy()\n",
    "filtered_df[\"ECG\"] = pd.Series(filtered_ecg)"
   ],
   "metadata": {
    "collapsed": false,
    "pycharm": {
     "name": "#%%\n"
    }
   }
  },
  {
   "cell_type": "code",
   "execution_count": null,
   "outputs": [],
   "source": [
    "# Plot filtered ECG data\n",
    "plt.figure(figsize=(20, 5))\n",
    "plt.plot(\"timestamp_idx\", \"ECG\", data=df, label=\"no filter\")\n",
    "plt.plot(\"timestamp_idx\", \"ECG\", data=filtered_df, label=\"highpass filter (Butterworth)\")\n",
    "plt.title(\"Filtered ECG Data Comparison\")\n",
    "plt.xlabel(\"timestamp_idx\")\n",
    "plt.ylabel(\"voltage\")\n",
    "plt.xlim(20000, 24000)\n",
    "plt.legend()\n",
    "plt.show()"
   ],
   "metadata": {
    "collapsed": false,
    "pycharm": {
     "name": "#%%\n"
    }
   }
  },
  {
   "cell_type": "markdown",
   "source": [
    "b) Remove noise via **bandpass filter**"
   ],
   "metadata": {
    "collapsed": false,
    "pycharm": {
     "name": "#%% md\n"
    }
   }
  },
  {
   "cell_type": "code",
   "execution_count": null,
   "outputs": [],
   "source": [
    "def remove_noise(data, sampling_rate=360, lowcut=0.5, highcut=45):\n",
    "    \"\"\"\n",
    "    Remove noise from ECG data using a band-pass filter. The band-pass filter will remove all frequencies below the lowcut frequency and above the highcut frequency. The lowcut frequency should be set to the lowest frequency that is still considered noise and not part of the ECG signal. For example, noise is typically between 0.5 Hz and 45 Hz. Therefore, a lowcut frequency of 0.5 Hz is a good starting point. However, if the ECG signal contains low-frequency components of interest, such as the T wave or P wave, then a higher lowcut frequency may be necessary to avoid over-filtering and loss of important ECG signal components. For this reason, a lowcut frequency of 5 Hz is also a good starting point. The lowcut frequency can be adjusted as needed. The highcut frequency should be set to the highest frequency that is still considered noise and not part of the ECG signal. For example, noise is typically between 0.5 Hz and 45 Hz. Therefore, a highcut frequency of 45 Hz is a good starting point. However, if the ECG signal contains high-frequency components of interest, such as the QRS complex, then a lower highcut frequency may be necessary to avoid over-filtering and loss of important ECG signal components. For this reason, a highcut frequency of 15 Hz is also a good starting point. The highcut frequency can be adjusted as needed. See https://en.wikipedia.org/wiki/Band-pass_filter for more information on band-pass filters.\n",
    "\n",
    "    :param data: ECG data as a 1-dimensional numpy array\n",
    "    :type data: numpy array\n",
    "    :param sampling_rate: sampling rate of ECG data (Hz), defaults to 360\n",
    "    :type sampling_rate: int, optional\n",
    "    :param lowcut: lowcut frequency of band-pass filter (Hz), defaults to 0.5\n",
    "    :type lowcut: float, optional\n",
    "    :param highcut: highcut frequency of band-pass filter (Hz), defaults to 45\n",
    "    :type highcut: float, optional\n",
    "\n",
    "    :return: ECG data with noise removed\n",
    "    :rtype: numpy array\n",
    "    \"\"\"\n",
    "\n",
    "    # Define filter parameters\n",
    "    nyquist_freq = 0.5 * sampling_rate\n",
    "    # Define cutoff frequencies (remove all frequencies below lowcut and above highcut)\n",
    "    low = lowcut / nyquist_freq\n",
    "    high = highcut / nyquist_freq\n",
    "    # Initialize filter\n",
    "    b, a = butter(4, [low, high], btype='band')\n",
    "    # Apply filter twice (combined filter) to remove forward and reverse phase shift. See https://docs.scipy.org/doc/scipy/reference/generated/scipy.signal.filtfilt.html for more information on filtfilt.\n",
    "    filtered_data = filtfilt(b, a, data)\n",
    "\n",
    "    return filtered_data"
   ],
   "metadata": {
    "collapsed": false,
    "pycharm": {
     "name": "#%%\n"
    }
   }
  },
  {
   "cell_type": "code",
   "execution_count": null,
   "outputs": [],
   "source": [
    "filtered_ecg = remove_noise(df[\"ECG\"].values, sampling_rate=fs_wesad)\n",
    "filtered_df = df.copy()\n",
    "filtered_df[\"ECG\"] = pd.Series(filtered_ecg)"
   ],
   "metadata": {
    "collapsed": false,
    "pycharm": {
     "name": "#%%\n"
    }
   }
  },
  {
   "cell_type": "code",
   "execution_count": null,
   "outputs": [],
   "source": [
    "# Plot filtered ECG data\n",
    "plt.figure(figsize=(20, 5))\n",
    "plt.plot(\"timestamp_idx\", \"ECG\", data=df, label=\"no filter\")\n",
    "plt.plot(\"timestamp_idx\", \"ECG\", data=filtered_df, label=\"banpass filter (Butterworth)\")\n",
    "plt.title(\"Filtered ECG Data Comparison\")\n",
    "plt.xlabel(\"timestamp_idx\")\n",
    "plt.ylabel(\"voltage\")\n",
    "plt.xlim(20000, 24000)\n",
    "plt.legend()\n",
    "plt.show()"
   ],
   "metadata": {
    "collapsed": false,
    "pycharm": {
     "name": "#%%\n"
    }
   }
  },
  {
   "cell_type": "markdown",
   "source": [
    "## Sample Rate\n",
    "Change sampling rate"
   ],
   "metadata": {
    "collapsed": false,
    "pycharm": {
     "name": "#%% md\n"
    }
   }
  },
  {
   "cell_type": "code",
   "execution_count": null,
   "outputs": [],
   "source": [
    "def resample_data(data, original_sampling_rate, new_sampling_rate=360):\n",
    "    # Resample ECG data to a new sampling rate\n",
    "    resampled_data = resample(data, int(len(data) * new_sampling_rate / original_sampling_rate))\n",
    "    return resampled_data"
   ],
   "metadata": {
    "collapsed": false,
    "pycharm": {
     "name": "#%%\n"
    }
   }
  },
  {
   "cell_type": "code",
   "execution_count": null,
   "outputs": [],
   "source": [
    "resampled_ecg = resample_data(df[\"ECG\"], original_sampling_rate=fs_wesad)\n",
    "resampled_df = df.copy()\n",
    "resampled_df[\"ECG\"] = pd.Series(resampled_ecg)"
   ],
   "metadata": {
    "collapsed": false,
    "pycharm": {
     "name": "#%%\n"
    }
   }
  },
  {
   "cell_type": "code",
   "execution_count": null,
   "outputs": [],
   "source": [
    "# Plot resampled ECG data\n",
    "plt.figure(figsize=(20, 5))\n",
    "plt.plot(\"timestamp_idx\", \"ECG\", data=df, label=f\"{fs_wesad} HZ\")\n",
    "plt.plot(\"timestamp_idx\", \"ECG\", data=resampled_df, label=\"360 HZ\")\n",
    "plt.title(\"Resampled ECG Data Comparison\")\n",
    "plt.xlabel(\"timestamp_idx\")\n",
    "plt.ylabel(\"voltage\")\n",
    "plt.xlim(20000, 24000)\n",
    "plt.legend()\n",
    "plt.show()"
   ],
   "metadata": {
    "collapsed": false,
    "pycharm": {
     "name": "#%%\n"
    }
   }
  },
  {
   "cell_type": "markdown",
   "source": [
    "## Preprocess via **pantompkins** and neurokit"
   ],
   "metadata": {
    "collapsed": false,
    "pycharm": {
     "name": "#%% md\n"
    }
   }
  },
  {
   "cell_type": "code",
   "execution_count": null,
   "outputs": [],
   "source": [
    "# Process the ecg signal\n",
    "cleaned = nk.ecg_clean(df['ECG'], sampling_rate=fs_wesad, method=\"pantompkins1985\")\n",
    "signals, info = nk.ecg_peaks(cleaned, sampling_rate=fs_wesad, method=\"pantompkins1985\", correct_artifacts=True)\n",
    "\n",
    "# sum up\n",
    "#nk_preprocessed_ecg = nk.ecg_process(df['ECG'], sampling_rate=fs_wesad, method=\"pantompkins1985\")\n",
    "\n",
    "# Plot the data if of interest\n",
    "nk.events_plot(info[\"ECG_R_Peaks\"], cleaned)"
   ],
   "metadata": {
    "collapsed": false,
    "pycharm": {
     "name": "#%%\n"
    }
   }
  },
  {
   "cell_type": "markdown",
   "source": [
    "# Preprocessing Pipeline"
   ],
   "metadata": {
    "collapsed": false,
    "pycharm": {
     "name": "#%% md\n"
    }
   }
  },
  {
   "cell_type": "code",
   "execution_count": null,
   "outputs": [],
   "source": [
    "def preprocess_ecg(data, sampling_rate, original_sampling_rate=700, new_sampling_rate=360):\n",
    "\n",
    "    # Remove basline wander using highpass filter\n",
    "    filtered_data = remove_basline_wander(data=data, sampling_rate=sampling_rate)\n",
    "    # Remove noise from ECG data using bandpass filter\n",
    "    filtered_data = remove_noise(data=filtered_data, sampling_rate=sampling_rate)\n",
    "    # Resample ECG data to a new sampling rate\n",
    "    if new_sampling_rate is not None and new_sampling_rate != original_sampling_rate:\n",
    "        filtered_data = resample(filtered_data, int(len(filtered_data) * new_sampling_rate / original_sampling_rate))\n",
    "    # Normalize ECG data to have zero mean and unit variance\n",
    "    scaler = StandardScaler()\n",
    "    normalized_data = scaler.fit_transform(filtered_data.reshape(-1, 1)).reshape(-1)\n",
    "\n",
    "    return normalized_data"
   ],
   "metadata": {
    "collapsed": false,
    "pycharm": {
     "name": "#%%\n"
    }
   }
  },
  {
   "cell_type": "code",
   "execution_count": null,
   "outputs": [],
   "source": [
    "%%time\n",
    "preprocessed_ecg = preprocess_ecg(df_wesad[\"ECG\"].values, original_sampling_rate=fs_wesad)\n",
    "preprocessed_df = df_wesad.copy()\n",
    "preprocessed_df[\"ECG\"] = pd.Series(preprocessed_ecg)"
   ],
   "metadata": {
    "collapsed": false,
    "pycharm": {
     "name": "#%%\n"
    }
   }
  },
  {
   "cell_type": "markdown",
   "source": [
    "# Feature Extraction\n",
    "Sources:\n",
    "- \"A brief review on the analysis of cardiovascular signals\" by S. Sanei and J. A. Chambers (2007), \"A guide to artefact detection in ECG signals\" by S. S. Makkar et al. (2011)\n",
    "- \"A robust algorithm for heart beats detection using ECG signals\" by M. S. Al-Angari and S. A. Sahakian (2007)\n",
    "- \"A comparison of heart rate variability analysis using smartphone and traditional RR-interval meters\" by J. H. Shin et al. (2013), \"Heart rate variability: a review\" by M. Malik et al. (1996)\n",
    "- \"Heart rate variability: from bench to bedside\" by G. B. Carrick-Ranson et al. (2015)\n",
    "- \"Heart rate variability: clinical applications\" by M. Malik et al. (1996)\n",
    "- \"Heart rate variability: standards of measurement, physiological interpretation and clinical use\" by the Task Force of the European Society of Cardiology and the North American Society of Pacing and Electrophysiology (1996)\n",
    "- \"A brief review on the analysis of cardiovascular signals\" by S. Sanei and J. A. Chambers (2007)\n",
    "- \"A guide to artefact detection in ECG signals\" by S. S. Makkar et al. (2011)\n",
    "- \"A robust algorithm for heart beats detection using ECG signals\" by M. S. Al-Angari and S. A. Sahakian (2007)\n",
    "- \"A comparison of heart rate variability analysis using smartphone and traditional RR-interval meters\" by J. H. Shin et al. (2013)\n",
    "- \"Heart rate variability: a review\" by M. Malik et al. (1996)\n",
    "- \"Heart rate variability: from bench to bedside\" by G. B. Carrick-Ranson et al. (2015)\n",
    "- \"Heart rate variability: clinical applications\" by M. Malik et al. (1996)\n",
    "\n",
    "* **Time Domain Features**:\n",
    "    * **Mean RR interval**: the average length of time between successive R peaks in the ECG signal. This feature provides a general estimate of the heart rate.\n",
    "    * **SDNN (standard deviation of normal-to-normal intervals)**: the standard deviation of the intervals between successive R peaks in the ECG signal, excluding any abnormal beats or ectopic beats. This feature provides an estimate of the overall variability of the heart rate.\n",
    "    * **RMSSD (root mean square of successive differences)**: the square root of the mean of the squared differences between successive normal-to-normal intervals. This feature provides an estimate of the short-term variability of the heart rate.\n",
    "    * **NN50**: the number of pairs of successive normal-to-normal intervals that differ by more than 50 ms. This feature provides an estimate of the parasympathetic nervous system activity.\n",
    "    * **pNN50**: the percentage of pairs of successive normal-to-normal intervals that differ by more than 50 ms. This feature provides a normalized measure of the parasympathetic nervous system activity.\n",
    "* **Frequency Domain Feature**:\n",
    "    * **LF (low-frequency) band power**: the power in the ECG signal in the frequency band between 0.04 Hz and 0.15 Hz. This feature provides an estimate of the sympathetic and parasympathetic nervous system activity.\n",
    "    * **HF (high-frequency) band power**: the power in the ECG signal in the frequency band between 0.15 Hz and 0.4 Hz. This feature provides an estimate of the parasympathetic nervous system activity.\n",
    "    * **LF/HF ratio**: the ratio of LF power to HF power. This feature provides an estimate of the balance between sympathetic and parasympathetic nervous system activity.\n",
    "* nonlinear features from RR intervals? - no"
   ],
   "metadata": {
    "collapsed": false,
    "pycharm": {
     "name": "#%% md\n"
    }
   }
  },
  {
   "cell_type": "code",
   "execution_count": null,
   "outputs": [],
   "source": [
    "def hrv_features(data, fs):\n",
    "    # Compute RR intervals from ECG data\n",
    "    rpeaks, = ecg.hamilton_segmenter(signal=data, sampling_rate=fs)\n",
    "    rr_intervals = np.diff(rpeaks) / fs\n",
    "\n",
    "    # Compute time domain features from RR intervals\n",
    "    mean_rr = np.mean(rr_intervals)\n",
    "    sdnn = np.std(rr_intervals)\n",
    "    rmssd = np.sqrt(np.mean(np.square(np.diff(rr_intervals))))\n",
    "    nn50 = np.sum(np.abs(np.diff(rr_intervals)) > 0.05)\n",
    "    pnn50 = nn50 / len(rr_intervals)\n",
    "\n",
    "    # Compute frequency domain features from RR intervals\n",
    "    freq, power = welch(rr_intervals, fs=fs, nperseg=256, noverlap=128, nfft=512)\n",
    "    lf_band = np.sum(power[(freq >= 0.04) & (freq <= 0.15)])\n",
    "    hf_band = np.sum(power[(freq >= 0.15) & (freq <= 0.4)])\n",
    "    lf_hf_ratio = lf_band / hf_band\n",
    "\n",
    "    # Return HRV features as a dictionary\n",
    "    features = {\n",
    "        'mean_rr': mean_rr,\n",
    "        'sdnn': sdnn,\n",
    "        'rmssd': rmssd,\n",
    "        'nn50': nn50,\n",
    "        'pnn50': pnn50,\n",
    "        'lf_band': lf_band,\n",
    "        'hf_band': hf_band,\n",
    "        'lf_hf_ratio': lf_hf_ratio,\n",
    "    }\n",
    "    return features"
   ],
   "metadata": {
    "collapsed": false,
    "pycharm": {
     "name": "#%%\n"
    }
   }
  },
  {
   "cell_type": "code",
   "execution_count": null,
   "outputs": [],
   "source": [
    "%%time\n",
    "# Compute HRV features\n",
    "hrv = hrv_features(preprocessed_ecg, fs_wesad)"
   ],
   "metadata": {
    "collapsed": false,
    "pycharm": {
     "name": "#%%\n"
    }
   }
  },
  {
   "cell_type": "code",
   "execution_count": null,
   "outputs": [],
   "source": [
    "# Convert from sec (s) to millisec (ms)(sx1000 -> ms)\n",
    "\n",
    "# Print HRV features\n",
    "print(f\"HRV features in seconds: {hrv}\")"
   ],
   "metadata": {
    "collapsed": false,
    "pycharm": {
     "name": "#%%\n"
    }
   }
  },
  {
   "cell_type": "code",
   "execution_count": null,
   "outputs": [],
   "source": [],
   "metadata": {
    "collapsed": false,
    "pycharm": {
     "name": "#%%\n"
    }
   }
  }
 ],
 "metadata": {
  "kernelspec": {
   "name": "python3",
   "language": "python",
   "display_name": "Python 3 (ipykernel)"
  },
  "language_info": {
   "codemirror_mode": {
    "name": "ipython",
    "version": 2
   },
   "file_extension": ".py",
   "mimetype": "text/x-python",
   "name": "python",
   "nbconvert_exporter": "python",
   "pygments_lexer": "ipython2",
   "version": "2.7.6"
  }
 },
 "nbformat": 4,
 "nbformat_minor": 0
}
