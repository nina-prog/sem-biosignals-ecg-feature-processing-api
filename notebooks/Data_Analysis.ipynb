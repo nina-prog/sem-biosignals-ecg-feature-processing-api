{
 "cells": [
  {
   "cell_type": "markdown",
   "source": [
    "# Imports"
   ],
   "metadata": {
    "collapsed": false,
    "pycharm": {
     "name": "#%% md\n"
    }
   }
  },
  {
   "cell_type": "code",
   "execution_count": 31,
   "outputs": [],
   "source": [
    "import pandas as pd\n",
    "import glob\n",
    "import os\n",
    "from tqdm import tqdm"
   ],
   "metadata": {
    "collapsed": false,
    "pycharm": {
     "name": "#%%\n"
    }
   }
  },
  {
   "cell_type": "markdown",
   "source": [
    "# Configs"
   ],
   "metadata": {
    "collapsed": false,
    "pycharm": {
     "name": "#%% md\n"
    }
   }
  },
  {
   "cell_type": "code",
   "execution_count": null,
   "outputs": [],
   "source": [],
   "metadata": {
    "collapsed": false,
    "pycharm": {
     "name": "#%%\n"
    }
   }
  },
  {
   "cell_type": "markdown",
   "source": [
    "# Import Data\n",
    "\n",
    "Used Dataset:\n",
    "- [WESAD: Multimodal Dataset for Wearable Stress and Affect Detection](https://ubicomp.eti.uni-siegen.de/home/datasets/icmi18/): Exclusively importing the available pickle files from each subject (S2.pkl, S2.pkl, ...) and combining them\n",
    "- Self-Generated Dataset (ECGPrivate):\n",
    "    - Device: Bioplux Chest (and Finger) Band\n",
    "    - Dataframes are modeled following the already implemented pydantic models"
   ],
   "metadata": {
    "collapsed": false,
    "pycharm": {
     "name": "#%% md\n"
    }
   }
  },
  {
   "cell_type": "code",
   "execution_count": 125,
   "outputs": [],
   "source": [
    "def dict_to_dataframe_WESAD(dict):\n",
    "    df = pd.DataFrame()\n",
    "\n",
    "    df[\"ECG\"] = dict[\"signal\"][\"chest\"][\"ECG\"].flatten()\n",
    "    df[\"label\"] = dict[\"label\"].flatten()\n",
    "    df[\"subject\"] = dict[\"subject\"]\n",
    "\n",
    "    return df"
   ],
   "metadata": {
    "collapsed": false,
    "pycharm": {
     "name": "#%%\n"
    }
   }
  },
  {
   "cell_type": "code",
   "execution_count": 139,
   "outputs": [],
   "source": [
    "from typing import Dict\n",
    "def combine_pickles_to_df(pattern, wesad_ecg=False):\n",
    "    \"\"\"\n",
    "    Load multiple pickle files that contain similar pandas DataFrames and combine them into a single DataFrame.\n",
    "\n",
    "    Args:\n",
    "        pattern (str): A glob pattern that matches the pickle files to load.\n",
    "        wesad (bool): Whether to convert dictionary objects to DataFrames (used for WESAD dataset).\n",
    "\n",
    "    Returns:\n",
    "        A pandas DataFrame that combines the loaded DataFrames.\n",
    "    \"\"\"\n",
    "    dfs = []\n",
    "    for file_path in tqdm(glob.glob(pattern)):\n",
    "        with open(file_path, 'rb') as f:\n",
    "            try:\n",
    "                df = pd.read_pickle(f)\n",
    "            except AttributeError:\n",
    "                raise ValueError(f\"Expected a pandas DataFrame, but got {type(df)}\")\n",
    "            if isinstance(df, Dict) and wesad_ecg:\n",
    "                df = dict_to_dataframe_WESAD(df)\n",
    "            dfs.append(df)\n",
    "    combined_df = pd.concat(dfs, ignore_index=True)\n",
    "    return combined_df"
   ],
   "metadata": {
    "collapsed": false,
    "pycharm": {
     "name": "#%%\n"
    }
   }
  },
  {
   "cell_type": "markdown",
   "source": [
    "### WESAD Data"
   ],
   "metadata": {
    "collapsed": false,
    "pycharm": {
     "name": "#%% md\n"
    }
   }
  },
  {
   "cell_type": "code",
   "execution_count": 137,
   "outputs": [
    {
     "name": "stderr",
     "output_type": "stream",
     "text": [
      "100%|██████████| 1/1 [00:09<00:00,  9.46s/it]"
     ]
    },
    {
     "name": "stdout",
     "output_type": "stream",
     "text": [
      "CPU times: total: 6.55 s\n",
      "Wall time: 9.56 s\n"
     ]
    },
    {
     "name": "stderr",
     "output_type": "stream",
     "text": [
      "\n"
     ]
    }
   ],
   "source": [
    "%%time\n",
    "# load WESAD\n",
    "df = combine_pickles_to_df('../data/S15.pkl', wesad_ecg=True)"
   ],
   "metadata": {
    "collapsed": false,
    "pycharm": {
     "name": "#%%\n"
    }
   }
  },
  {
   "cell_type": "code",
   "execution_count": 141,
   "outputs": [
    {
     "data": {
      "text/plain": "                ECG         label\ncount  3.676400e+06  3.676400e+06\nmean   1.106015e-03  1.464774e+00\nstd    2.885650e-01  1.626752e+00\nmin   -1.257111e+00  0.000000e+00\n25%   -1.009369e-01  0.000000e+00\n50%   -1.826477e-02  1.000000e+00\n75%    2.069092e-02  2.000000e+00\nmax    1.499496e+00  7.000000e+00",
      "text/html": "<div>\n<style scoped>\n    .dataframe tbody tr th:only-of-type {\n        vertical-align: middle;\n    }\n\n    .dataframe tbody tr th {\n        vertical-align: top;\n    }\n\n    .dataframe thead th {\n        text-align: right;\n    }\n</style>\n<table border=\"1\" class=\"dataframe\">\n  <thead>\n    <tr style=\"text-align: right;\">\n      <th></th>\n      <th>ECG</th>\n      <th>label</th>\n    </tr>\n  </thead>\n  <tbody>\n    <tr>\n      <th>count</th>\n      <td>3.676400e+06</td>\n      <td>3.676400e+06</td>\n    </tr>\n    <tr>\n      <th>mean</th>\n      <td>1.106015e-03</td>\n      <td>1.464774e+00</td>\n    </tr>\n    <tr>\n      <th>std</th>\n      <td>2.885650e-01</td>\n      <td>1.626752e+00</td>\n    </tr>\n    <tr>\n      <th>min</th>\n      <td>-1.257111e+00</td>\n      <td>0.000000e+00</td>\n    </tr>\n    <tr>\n      <th>25%</th>\n      <td>-1.009369e-01</td>\n      <td>0.000000e+00</td>\n    </tr>\n    <tr>\n      <th>50%</th>\n      <td>-1.826477e-02</td>\n      <td>1.000000e+00</td>\n    </tr>\n    <tr>\n      <th>75%</th>\n      <td>2.069092e-02</td>\n      <td>2.000000e+00</td>\n    </tr>\n    <tr>\n      <th>max</th>\n      <td>1.499496e+00</td>\n      <td>7.000000e+00</td>\n    </tr>\n  </tbody>\n</table>\n</div>"
     },
     "execution_count": 141,
     "metadata": {},
     "output_type": "execute_result"
    }
   ],
   "source": [
    "df.describe()"
   ],
   "metadata": {
    "collapsed": false,
    "pycharm": {
     "name": "#%%\n"
    }
   }
  },
  {
   "cell_type": "markdown",
   "source": [
    "### Self-generated dataset"
   ],
   "metadata": {
    "collapsed": false,
    "pycharm": {
     "name": "#%% md\n"
    }
   }
  },
  {
   "cell_type": "code",
   "execution_count": null,
   "outputs": [],
   "source": [],
   "metadata": {
    "collapsed": false,
    "pycharm": {
     "name": "#%%\n"
    }
   }
  },
  {
   "cell_type": "markdown",
   "source": [
    "# Preprocessing"
   ],
   "metadata": {
    "collapsed": false,
    "pycharm": {
     "name": "#%% md\n"
    }
   }
  },
  {
   "cell_type": "code",
   "execution_count": null,
   "outputs": [],
   "source": [
    "#ecgs = np.array(ecg_batch.ecgs)\n",
    "\n",
    "# Detrend signals\n",
    "#ecgs -= np.mean(ecgs, axis=1, keepdims=True)"
   ],
   "metadata": {
    "collapsed": false,
    "pycharm": {
     "name": "#%%\n"
    }
   }
  }
 ],
 "metadata": {
  "kernelspec": {
   "name": "pycharm-988338ab",
   "language": "python",
   "display_name": "PyCharm (sem-biosignals-ecg-feature-processing-api)"
  },
  "language_info": {
   "codemirror_mode": {
    "name": "ipython",
    "version": 2
   },
   "file_extension": ".py",
   "mimetype": "text/x-python",
   "name": "python",
   "nbconvert_exporter": "python",
   "pygments_lexer": "ipython2",
   "version": "2.7.6"
  }
 },
 "nbformat": 4,
 "nbformat_minor": 0
}